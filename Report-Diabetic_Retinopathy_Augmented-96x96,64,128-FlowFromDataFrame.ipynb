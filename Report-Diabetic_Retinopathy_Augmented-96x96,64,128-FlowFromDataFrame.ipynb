{
 "cells": [
  {
   "cell_type": "markdown",
   "metadata": {},
   "source": [
    "# Diabetic Retinopathy Detection"
   ]
  },
  {
   "cell_type": "markdown",
   "metadata": {},
   "source": [
    "This Jupyter Notebook uses a neural network to classify retinal images for various stages of diabetic retinopathy, a disease which can lead of blindness.\n",
    "\n",
    "Reference:\n",
    "* Kaggle Competition: [APTOS 2019 Blindness Detection](https://www.kaggle.com/c/aptos2019-blindness-detection)\n",
    "* My Convolutional Neural Network (CNN) is based upon the CNN defined by: [SmallerVGGNet by Adrian Rosebrock, PyImageSearch](https://www.pyimagesearch.com/2018/04/16/keras-and-convolutional-neural-networks-cnns)\n",
    "\n",
    "## Approach\n",
    "* The dataset is provided as a part of the Kaggle competition:\n",
    "    * 3662 training images, with an associated CSV file containing ID code and label class for each image\n",
    "    * 1928 testing images (which I refer to as \"official test\" images), with an associated CSV file containing only the ID code for each image. Note: a subset of a broader set of testing images that will be used to calculate official scoring for the competition\n",
    "    * Each image was a color image, but with size/resolution ranging from 474x358 to 3388x2588 pixels.\n",
    "    \n",
    "* I divided the 3662 training images into 3 sets using sklearn `test_train_split`:\n",
    "    * 2197 (60%) for training\n",
    "    * 732 (20%) for validation\n",
    "    * 732 (20%) for evaluation of model accuracy.\n",
    "    \n",
    "* <font color=\"blue\"><b>REFACTORED</b></font>: Now using the Keras `ImageDataGenerator` method `flow_from_dataframe` to access the training, validation, and testing images.\n",
    "    * The train.csv file provides the image `id_code` and associated `diagnosis`.  This file is read into a dataframe.\n",
    "    * `flow_from_dataframe` is then used to ready the images associated with the `id_code` entries in the dataframe.\n",
    "        \n",
    "* I defined and refined the Convolutional Neural Network:\n",
    "    * Defined the CNN model as a class based initially upon `SmallerVGGNet` (Adrian Rosebrock) and subsequently revised to refine the model's accuracy\n",
    "    * Used Keras `DataImageGenerator` and `flow_from_dataframe` to instantiate image generators linked to the training, validation, and Testing directories\n",
    "    * Initialized the model using the defined class and compiled it (specifying the Adam optimizer)\n",
    "    * Fit the model using the training image generator, with validation using the model using the validation image generator\n",
    "    * The Fit History, providing accuracy and loss at each epoch, was plotted\n",
    "    * The fitted model was then used to predict the class for each of the Official Test images\n",
    "    \n",
    "* To improve the robustness of the model, the `DataImageGenerator` instantiated for training was revised to add augmentation to introduce random rotations, translations, and other transformations of the training images used to fit the model.\n",
    "    \n",
    "## Results\n",
    "* Refer to the Figure provided below\n",
    "* For the neural network definition specified in this notebook, the fitting history shows a maximum training accuracy of 0.702 at epoch 8 (the 9th epoch iteration).  The fitted model yielded an accuracy of 0.5829 with the validation data, with a major dip in validation accurance and loss at epoch 5.  Accuracy and loss decrease with epoch 6 for both training and validation data, suggesting that overfitting may be an issue after this iteration.\n",
    "* Across all of the CNN models I attempted, the performance of the model against the official test data was poor, with Kaggle indicating a maximum accurancy of 0.486 for the \"Private\" dataset that is not available while the competition is in-progress.  However, while this is sufficient for any meaningful real-world usage, it's reassuring that the model at least performed better than a random guess of the image class (e.g., 1/5 = 0.200)!\n",
    "\n",
    "## Opportunities for Further Investigation\n",
    "* Further investigation of the effects of changes in each layer of the CNN is needed.\n",
    "* I did not check for skew in the distribution of classes in the training images.  Taking this into account during sample selection and during fitting could improve results\n"
   ]
  },
  {
   "cell_type": "markdown",
   "metadata": {},
   "source": [
    "| Figure: Diabetic Retinopathy Detection - Model Fitting History |\n",
    "|----------|\n",
    "| ![Figure: Diabetic Retinopathy Detection - Model Fitting History is Loading...](docs/Figure-DPA_Fit_History.png \"Figure: Diabetic Retinopathy Detection - Model Fitting History\") |\n",
    "| ![Table: Diabetic Retinopathy Detection - Model Fitting History is Loading...](docs/Table-DPA_Fit_History.png \"Table: Diabetic Retinopathy Detection - Model Fitting History\") |"
   ]
  },
  {
   "cell_type": "markdown",
   "metadata": {},
   "source": [
    "# Dependencies"
   ]
  },
  {
   "cell_type": "code",
   "execution_count": 1,
   "metadata": {
    "nbpresent": {
     "id": "828c2e12-b1c6-4994-8f55-ce86373b6c97"
    },
    "scrolled": true,
    "slideshow": {
     "slide_type": "fragment"
    }
   },
   "outputs": [
    {
     "name": "stderr",
     "output_type": "stream",
     "text": [
      "Using TensorFlow backend.\n"
     ]
    }
   ],
   "source": [
    "%matplotlib inline\n",
    "# %matplotlib notebook\n",
    "import matplotlib.pyplot as plt\n",
    "from mpl_toolkits.mplot3d import Axes3D    # Support 3D graphing\n",
    "\n",
    "import numpy as np\n",
    "import pandas as pd\n",
    "from pandas.plotting import table\n",
    "import math\n",
    "import random\n",
    "import shutil\n",
    "import os\n",
    "\n",
    "# from imutils import paths\n",
    "# import argparse\n",
    "# import pickle\n",
    "# import cv2\n",
    "\n",
    "from pprint import pprint\n",
    "\n",
    "# Visualization\n",
    "import graphviz\n",
    "import pydotplus\n",
    "from IPython.display import Image\n",
    "\n",
    "# Machine Learning - Data Preparation and Pre-Processing\n",
    "from sklearn.model_selection import train_test_split # Split data into training and testing samples\n",
    "from sklearn.model_selection import cross_val_score  # Score a model using k-fold or other cross validation\n",
    "\n",
    "from sklearn.preprocessing import OneHotEncoder   # Convert categorical integer features (X) to One-Hot encoded values\n",
    "from sklearn.preprocessing import LabelEncoder    # Convert categorical labeled values to categorical integer values\n",
    "from sklearn.preprocessing import LabelBinarizer  # Convert categorical labeled values to Binary encoded values\n",
    "\n",
    "from sklearn.preprocessing import StandardScaler  # Scale numerical features to standard normal distribution\n",
    "from sklearn.preprocessing import MinMaxScaler    # Scale numerical values based upon mix/max values\n",
    "\n",
    "# Machine Learning - Sci-Kit Learn - Models - Regression\n",
    "from sklearn.linear_model import LinearRegression  # TBD\n",
    "from sklearn.linear_model import Lasso             # TBD\n",
    "from sklearn.linear_model import Ridge             # TBD\n",
    "from sklearn.linear_model import ElasticNet        # TBD\n",
    "\n",
    "# Machine Learning - Sci-Kit Learn - Models - Classification\n",
    "from sklearn.linear_model import LogisticRegression   # Logistic Regression Classifier\n",
    "from sklearn import tree                              # Decision Tree Classifier\n",
    "from sklearn.ensemble import RandomForestClassifier   # Random Forest Classifier\n",
    "from sklearn import svm                               # Support Vector Machine Classifier\n",
    "from sklearn.neighbors import KNeighborsClassifier    # K-Nearest Neighbors (KNN)\n",
    "\n",
    "# Machine Learning - GridSearch for Hyper-Parameter tuning\n",
    "from sklearn.model_selection import GridSearchCV      # Grid Search\n",
    "\n",
    "# Machine Learning - Quantify Model Performance\n",
    "from sklearn.metrics import mean_squared_error    # Mean Squared Error (MSE) metric\n",
    "from sklearn.metrics import r2_score              # R-squared (Coefficient of Determination) metric\n",
    "from sklearn.metrics import confusion_matrix      # Generate a confusion matrix (actual vs. predicted counts)\n",
    "from sklearn.metrics import classification_report # Calculate metrics for prediction performance\n",
    "from sklearn.metrics import accuracy_score        # Calculate the precision: (Tp+Tn) / (Tp + Fp + Tn + Fn) => Ability Correctly Predict samples\n",
    "from sklearn.metrics import precision_score       # Calculate the precision: Tp / (Tp + Fp) => Ability to avoid false negatives\n",
    "from sklearn.metrics import recall_score          # Calculate the recall: Tp / (Tp + Fn) => Ability to find all positive samples\n",
    "from sklearn.metrics import f1_score              # Calculate the F1 score: 2*(precision*recall)/(precision+recall)\n",
    "\n",
    "# Machine Learning - Dataset Generation\n",
    "from sklearn.datasets import make_regression     # Generate linear data\n",
    "from sklearn.datasets import make_s_curve        # Generate nonlinear data\n",
    "from sklearn.datasets import make_blobs          # Generate blobs for classification\n",
    "from sklearn.datasets import make_circles        # Generate circles for classification\n",
    "from sklearn.datasets import load_iris           # Sample multi-class dataset for classification\n",
    "from sklearn.datasets import make_classification # Generate datasets for classification\n",
    "\n",
    "# Machine Learning - Keras (Tensorflow) - Models\n",
    "from keras.models import Sequential               # Sequential model serving as foundation for neural network\n",
    "# from keras.layers import Dense                    # Nodes for specifying input, hidden, and output layers\n",
    "from keras.layers.core import Activation\n",
    "from keras.layers.core import Flatten\n",
    "from keras.layers.core import Dropout\n",
    "from keras.layers.core import Dense\n",
    "\n",
    "# Machine Learning - Keras (Tensorflow) - Convolutional Neural Networks (Image Classification)\n",
    "from keras.layers.normalization import BatchNormalization\n",
    "from keras.layers.convolutional import Conv2D\n",
    "from keras.layers.convolutional import MaxPooling2D\n",
    "from keras import backend as K\n",
    "\n",
    "# Machine Learning - Keras (Tensorflow) - Optimizers\n",
    "from keras.optimizers import SGD\n",
    "from keras.optimizers import Adam\n",
    "\n",
    "# Machine Learning - Keras (Tensorflow) - Encoding\n",
    "from keras.utils import to_categorical            # One-Hot Encoder provided through Keras\n",
    "\n",
    "# Machine Learning - Keras (Tensorflow) - Other related Tools\n",
    "from keras.utils import plot_model                # Plot a neural network model\n",
    "from keras.models import load_model               # Load a saved machine learning model\n",
    "from keras.preprocessing import image             # Loads an image for application of machine learning\n",
    "from keras.preprocessing.image import img_to_array # Converts an image to a numpy array\n",
    "from keras.preprocessing.image import ImageDataGenerator\n",
    "\n",
    "# Machine Learning - Keras (Tensorflow) -  Dataset Generation\n",
    "from keras.datasets import mnist                  # Images: Handwritten digits 0-9 (28x28 grayscale, 60K train, 10K test)\n"
   ]
  },
  {
   "cell_type": "markdown",
   "metadata": {},
   "source": [
    "## Locate the Training and Testing Data"
   ]
  },
  {
   "cell_type": "code",
   "execution_count": 98,
   "metadata": {},
   "outputs": [
    {
     "name": "stdout",
     "output_type": "stream",
     "text": [
      "Using Main Data Scource Folder './data/'\n"
     ]
    }
   ],
   "source": [
    "# Determine the operating enviroment (Kaggle vs. Local PC)\n",
    "# based upon the presence of the main data source folder\n",
    "main_data_src_folder_kaggle = \"../input/aptos2019-blindness-detection/\"\n",
    "main_data_src_folder_localpc = \"./data/\"\n",
    "\n",
    "if os.path.exists(main_data_src_folder_kaggle):\n",
    "    # Use the Kaggle data file folder\n",
    "    main_data_src_folder = main_data_src_folder_kaggle\n",
    "    \n",
    "    # On Kaggle, by default don't save augmented images\n",
    "    flag_save_aug = False\n",
    "\n",
    "else:\n",
    "    # Use the Local PC data file folder\n",
    "    main_data_src_folder = main_data_src_folder_localpc\n",
    "\n",
    "    # On Local PC, by default don't save augmented images\n",
    "    flag_save_aug = False\n",
    "\n",
    "print(f\"Using Main Data Scource Folder '{main_data_src_folder}'\")"
   ]
  },
  {
   "cell_type": "code",
   "execution_count": 100,
   "metadata": {},
   "outputs": [
    {
     "name": "stdout",
     "output_type": "stream",
     "text": [
      "Using Training and Testing Folders and Files:\n",
      "\tTraining Labels File: './data/train.csv'\n",
      "\tTraining Image Directory: './data/train_images/'\n",
      "\tTesting Labels File: './data/test.csv'\n",
      "\tTesting Image Directory: './data/test_images/'\n",
      "\tTemporary Augmented Image Directory: './data/temp_aug_images/'\n",
      "\tFlag to Save Augmented Images: False\n"
     ]
    }
   ],
   "source": [
    "# Set the key file and directory pointers\n",
    "# CSV file with list of training images and labels\n",
    "train_labels_file = main_data_src_folder + \"train.csv\"\n",
    "\n",
    "# Training images - Source of training images in a single folder for training/validation/testing\n",
    "dir_train_src = main_data_src_folder + \"train_images/\"\n",
    "\n",
    "# CSV file with list of testing images\n",
    "test_labels_file = main_data_src_folder + \"test.csv\"\n",
    "\n",
    "# Testing images - Source of training images in a single folder for training/validation/testing\n",
    "dir_test_src = main_data_src_folder + \"test_images/\"\n",
    "\n",
    "# Temporary folder for optionally outputing images generated during model training, validation, and testing\n",
    "#  On Kaggle must be in the local (i.e., \"working\") directory, since input/data directory is not writable\n",
    "#  On Local PC, place in the data directory so it will be ignored by Git (via a .gitignore entry for `data` folder)\n",
    "#\n",
    "#  NOTE: Will override and set to 'None' by default\n",
    "\n",
    "if os.path.exists(main_data_src_folder_kaggle):\n",
    "    # Use the Kaggle current (i.e., \"working\") directory\n",
    "    dir_temp_aug_images = \"./temp_aug_images/\"\n",
    "\n",
    "else:\n",
    "    # Use the Local PC data directory\n",
    "    dir_temp_aug_images = main_data_src_folder_localpc + \"temp_aug_images/\"\n",
    "    \n",
    "# Summary\n",
    "print(f\"Using Training and Testing Folders and Files:\")\n",
    "print(f\"\\tTraining Labels File: '{train_labels_file}'\")\n",
    "print(f\"\\tTraining Image Directory: '{dir_train_src}'\")\n",
    "print(f\"\\tTesting Labels File: '{test_labels_file}'\")\n",
    "print(f\"\\tTesting Image Directory: '{dir_test_src}'\")\n",
    "print(f\"\\tTemporary Augmented Image Directory: '{dir_temp_aug_images}'\")\n",
    "print(f\"\\tFlag to Save Augmented Images: {flag_save_aug}\")"
   ]
  },
  {
   "cell_type": "code",
   "execution_count": 83,
   "metadata": {
    "scrolled": true
   },
   "outputs": [
    {
     "data": {
      "text/html": [
       "<div>\n",
       "<style scoped>\n",
       "    .dataframe tbody tr th:only-of-type {\n",
       "        vertical-align: middle;\n",
       "    }\n",
       "\n",
       "    .dataframe tbody tr th {\n",
       "        vertical-align: top;\n",
       "    }\n",
       "\n",
       "    .dataframe thead th {\n",
       "        text-align: right;\n",
       "    }\n",
       "</style>\n",
       "<table border=\"1\" class=\"dataframe\">\n",
       "  <thead>\n",
       "    <tr style=\"text-align: right;\">\n",
       "      <th></th>\n",
       "      <th>id_code</th>\n",
       "      <th>diagnosis</th>\n",
       "    </tr>\n",
       "  </thead>\n",
       "  <tbody>\n",
       "    <tr>\n",
       "      <td>0</td>\n",
       "      <td>000c1434d8d7</td>\n",
       "      <td>2</td>\n",
       "    </tr>\n",
       "    <tr>\n",
       "      <td>1</td>\n",
       "      <td>001639a390f0</td>\n",
       "      <td>4</td>\n",
       "    </tr>\n",
       "    <tr>\n",
       "      <td>2</td>\n",
       "      <td>0024cdab0c1e</td>\n",
       "      <td>1</td>\n",
       "    </tr>\n",
       "    <tr>\n",
       "      <td>3</td>\n",
       "      <td>002c21358ce6</td>\n",
       "      <td>0</td>\n",
       "    </tr>\n",
       "    <tr>\n",
       "      <td>4</td>\n",
       "      <td>005b95c28852</td>\n",
       "      <td>0</td>\n",
       "    </tr>\n",
       "    <tr>\n",
       "      <td>...</td>\n",
       "      <td>...</td>\n",
       "      <td>...</td>\n",
       "    </tr>\n",
       "    <tr>\n",
       "      <td>3657</td>\n",
       "      <td>ffa47f6a7bf4</td>\n",
       "      <td>2</td>\n",
       "    </tr>\n",
       "    <tr>\n",
       "      <td>3658</td>\n",
       "      <td>ffc04fed30e6</td>\n",
       "      <td>0</td>\n",
       "    </tr>\n",
       "    <tr>\n",
       "      <td>3659</td>\n",
       "      <td>ffcf7b45f213</td>\n",
       "      <td>2</td>\n",
       "    </tr>\n",
       "    <tr>\n",
       "      <td>3660</td>\n",
       "      <td>ffd97f8cd5aa</td>\n",
       "      <td>0</td>\n",
       "    </tr>\n",
       "    <tr>\n",
       "      <td>3661</td>\n",
       "      <td>ffec9a18a3ce</td>\n",
       "      <td>2</td>\n",
       "    </tr>\n",
       "  </tbody>\n",
       "</table>\n",
       "<p>3662 rows × 2 columns</p>\n",
       "</div>"
      ],
      "text/plain": [
       "           id_code  diagnosis\n",
       "0     000c1434d8d7          2\n",
       "1     001639a390f0          4\n",
       "2     0024cdab0c1e          1\n",
       "3     002c21358ce6          0\n",
       "4     005b95c28852          0\n",
       "...            ...        ...\n",
       "3657  ffa47f6a7bf4          2\n",
       "3658  ffc04fed30e6          0\n",
       "3659  ffcf7b45f213          2\n",
       "3660  ffd97f8cd5aa          0\n",
       "3661  ffec9a18a3ce          2\n",
       "\n",
       "[3662 rows x 2 columns]"
      ]
     },
     "execution_count": 83,
     "metadata": {},
     "output_type": "execute_result"
    }
   ],
   "source": [
    "# Load into a dataframe\n",
    "all_train_labels_df = pd.read_csv(train_labels_file)\n",
    "\n",
    "# Limit subsequent pre-processing to only 15 images initially\n",
    "# all_train_labels_df = all_train_labels_df[0:100]\n",
    "\n",
    "# Process all training data\n",
    "all_train_labels_df"
   ]
  },
  {
   "cell_type": "code",
   "execution_count": 84,
   "metadata": {},
   "outputs": [
    {
     "data": {
      "text/html": [
       "<div>\n",
       "<style scoped>\n",
       "    .dataframe tbody tr th:only-of-type {\n",
       "        vertical-align: middle;\n",
       "    }\n",
       "\n",
       "    .dataframe tbody tr th {\n",
       "        vertical-align: top;\n",
       "    }\n",
       "\n",
       "    .dataframe thead th {\n",
       "        text-align: right;\n",
       "    }\n",
       "</style>\n",
       "<table border=\"1\" class=\"dataframe\">\n",
       "  <thead>\n",
       "    <tr style=\"text-align: right;\">\n",
       "      <th></th>\n",
       "      <th>id_code</th>\n",
       "      <th>diagnosis</th>\n",
       "    </tr>\n",
       "  </thead>\n",
       "  <tbody>\n",
       "    <tr>\n",
       "      <td>0</td>\n",
       "      <td>000c1434d8d7.png</td>\n",
       "      <td>2</td>\n",
       "    </tr>\n",
       "    <tr>\n",
       "      <td>1</td>\n",
       "      <td>001639a390f0.png</td>\n",
       "      <td>4</td>\n",
       "    </tr>\n",
       "    <tr>\n",
       "      <td>2</td>\n",
       "      <td>0024cdab0c1e.png</td>\n",
       "      <td>1</td>\n",
       "    </tr>\n",
       "    <tr>\n",
       "      <td>3</td>\n",
       "      <td>002c21358ce6.png</td>\n",
       "      <td>0</td>\n",
       "    </tr>\n",
       "    <tr>\n",
       "      <td>4</td>\n",
       "      <td>005b95c28852.png</td>\n",
       "      <td>0</td>\n",
       "    </tr>\n",
       "  </tbody>\n",
       "</table>\n",
       "</div>"
      ],
      "text/plain": [
       "            id_code  diagnosis\n",
       "0  000c1434d8d7.png          2\n",
       "1  001639a390f0.png          4\n",
       "2  0024cdab0c1e.png          1\n",
       "3  002c21358ce6.png          0\n",
       "4  005b95c28852.png          0"
      ]
     },
     "execution_count": 84,
     "metadata": {},
     "output_type": "execute_result"
    }
   ],
   "source": [
    "# Convert the id_code entries to filenames by adding .png extension\n",
    "all_train_labels_df['id_code'] = all_train_labels_df['id_code'] + \".png\"\n",
    "all_train_labels_df.head()"
   ]
  },
  {
   "cell_type": "code",
   "execution_count": 85,
   "metadata": {},
   "outputs": [
    {
     "data": {
      "text/html": [
       "<div>\n",
       "<style scoped>\n",
       "    .dataframe tbody tr th:only-of-type {\n",
       "        vertical-align: middle;\n",
       "    }\n",
       "\n",
       "    .dataframe tbody tr th {\n",
       "        vertical-align: top;\n",
       "    }\n",
       "\n",
       "    .dataframe thead th {\n",
       "        text-align: right;\n",
       "    }\n",
       "</style>\n",
       "<table border=\"1\" class=\"dataframe\">\n",
       "  <thead>\n",
       "    <tr style=\"text-align: right;\">\n",
       "      <th></th>\n",
       "      <th>diagnosis</th>\n",
       "    </tr>\n",
       "  </thead>\n",
       "  <tbody>\n",
       "    <tr>\n",
       "      <td>count</td>\n",
       "      <td>3662.000000</td>\n",
       "    </tr>\n",
       "    <tr>\n",
       "      <td>mean</td>\n",
       "      <td>1.126980</td>\n",
       "    </tr>\n",
       "    <tr>\n",
       "      <td>std</td>\n",
       "      <td>1.298409</td>\n",
       "    </tr>\n",
       "    <tr>\n",
       "      <td>min</td>\n",
       "      <td>0.000000</td>\n",
       "    </tr>\n",
       "    <tr>\n",
       "      <td>25%</td>\n",
       "      <td>0.000000</td>\n",
       "    </tr>\n",
       "    <tr>\n",
       "      <td>50%</td>\n",
       "      <td>1.000000</td>\n",
       "    </tr>\n",
       "    <tr>\n",
       "      <td>75%</td>\n",
       "      <td>2.000000</td>\n",
       "    </tr>\n",
       "    <tr>\n",
       "      <td>max</td>\n",
       "      <td>4.000000</td>\n",
       "    </tr>\n",
       "  </tbody>\n",
       "</table>\n",
       "</div>"
      ],
      "text/plain": [
       "         diagnosis\n",
       "count  3662.000000\n",
       "mean      1.126980\n",
       "std       1.298409\n",
       "min       0.000000\n",
       "25%       0.000000\n",
       "50%       1.000000\n",
       "75%       2.000000\n",
       "max       4.000000"
      ]
     },
     "execution_count": 85,
     "metadata": {},
     "output_type": "execute_result"
    }
   ],
   "source": [
    "all_train_labels_df.describe()"
   ]
  },
  {
   "cell_type": "code",
   "execution_count": 86,
   "metadata": {},
   "outputs": [],
   "source": [
    "# Look for any entries where the labels are not a number\n",
    "invalid_list = all_train_labels_df['diagnosis'].map(math.isnan)\n",
    "if sum(invalid_list) > 0:\n",
    "    print(f\"WARNING: Dropping {sum(invalid_list)} rows with labels having value NaN\")\n",
    "    print(all_train_labels_df[ invalid_list ])\n",
    "\n",
    "    # Drop rows with invalid labels\n",
    "    all_train_labels_df = all_train_labels_df[ invalid_list == False ].reset_index(drop=True)\n",
    "    all_train_labels_df"
   ]
  },
  {
   "cell_type": "code",
   "execution_count": 87,
   "metadata": {},
   "outputs": [
    {
     "data": {
      "text/plain": [
       "id_code      object\n",
       "diagnosis     int64\n",
       "dtype: object"
      ]
     },
     "execution_count": 87,
     "metadata": {},
     "output_type": "execute_result"
    }
   ],
   "source": [
    "all_train_labels_df.dtypes"
   ]
  },
  {
   "cell_type": "code",
   "execution_count": 88,
   "metadata": {},
   "outputs": [],
   "source": [
    "# Convert the diagnosis labels from integer to string to permit later\n",
    "# use of class_mode='categorical' with flow_from_dataframe\n",
    "all_train_labels_df['diagnosis'] = all_train_labels_df['diagnosis'].map(str)"
   ]
  },
  {
   "cell_type": "code",
   "execution_count": 89,
   "metadata": {},
   "outputs": [
    {
     "data": {
      "text/plain": [
       "id_code      object\n",
       "diagnosis    object\n",
       "dtype: object"
      ]
     },
     "execution_count": 89,
     "metadata": {},
     "output_type": "execute_result"
    }
   ],
   "source": [
    "all_train_labels_df.dtypes"
   ]
  },
  {
   "cell_type": "markdown",
   "metadata": {},
   "source": [
    "## Split the Training Data into Training, Validation, and Test Subsets"
   ]
  },
  {
   "cell_type": "code",
   "execution_count": 90,
   "metadata": {},
   "outputs": [],
   "source": [
    "# One-hot encode the diagnosis\n",
    "# NOTE: No need to one-hot encode the diagnosis label since that\n",
    "# will be handled internally by flow_from_dataframe with class_mode='categorical'\n",
    "# y_all_train_encoded = to_categorical(all_train_labels_df['diagnosis'])\n",
    "# y_all_train_encoded = all_train_labels_df['diagnosis']\n",
    "# y_all_train_encoded"
   ]
  },
  {
   "cell_type": "code",
   "execution_count": 91,
   "metadata": {},
   "outputs": [
    {
     "name": "stdout",
     "output_type": "stream",
     "text": [
      "(2197,) (2197,)\n",
      "(732,) (732,)\n",
      "(733,) (733,)\n"
     ]
    }
   ],
   "source": [
    "# Perform test_train_split twice to create training (60%), validation (20%), and testing (20%) subsets\n",
    "X_train, X_remain, y_train, y_remain = train_test_split(\n",
    "                        all_train_labels_df['id_code'],\n",
    "                        all_train_labels_df['diagnosis'],\n",
    "                        test_size = 0.4,\n",
    "                        random_state=1\n",
    "                        )\n",
    "\n",
    "X_valid, X_test, y_valid, y_test = train_test_split(\n",
    "                        X_remain,\n",
    "                        y_remain,\n",
    "                        test_size = 0.5,\n",
    "                        random_state=1\n",
    "                        )\n",
    "\n",
    "print( X_train.shape, y_train.shape )\n",
    "print( X_valid.shape, y_valid.shape )\n",
    "print( X_test.shape, y_test.shape )"
   ]
  },
  {
   "cell_type": "code",
   "execution_count": null,
   "metadata": {},
   "outputs": [],
   "source": []
  },
  {
   "cell_type": "markdown",
   "metadata": {},
   "source": [
    "## Define the Convolutional Neural Network"
   ]
  },
  {
   "cell_type": "code",
   "execution_count": 92,
   "metadata": {},
   "outputs": [],
   "source": [
    "# Define the classification model for the Convolutional Neural Network\n",
    "# REFERENCE: PyImageSearch (Adrian Rosebrock)\n",
    "#            https://www.pyimagesearch.com/2018/04/16/keras-and-convolutional-neural-networks-cnns/\n",
    "class SmallerVGGNet:\n",
    "    @staticmethod\n",
    "    def build(width, height, depth, classes):\n",
    "        # initialize the model along with the input shape to be\n",
    "        # \"channels last\" and the channels dimension itself\n",
    "        model = Sequential()\n",
    "        inputShape = (height, width, depth)\n",
    "        chanDim = -1\n",
    "\n",
    "        # if we are using \"channels first\", update the input shape\n",
    "        # and channels dimension\n",
    "        if K.image_data_format() == \"channels_first\":\n",
    "            inputShape = (depth, height, width)\n",
    "            chanDim = 1\n",
    "            \n",
    "        # CONV => RELU => POOL\n",
    "        model.add(Conv2D(32, (3, 3), padding=\"same\", input_shape=inputShape ) )\n",
    "        \n",
    "        model.add(Activation(\"relu\"))\n",
    "        model.add(BatchNormalization(axis=chanDim))\n",
    "        \n",
    "        model.add(MaxPooling2D(pool_size=(3, 3)))\n",
    "        model.add(Dropout(0.25))\n",
    "        \n",
    "        # (CONV => RELU) * 2 => POOL\n",
    "        model.add(Conv2D(64, (3, 3), padding=\"same\"))\n",
    "        model.add(Activation(\"relu\"))\n",
    "        model.add(BatchNormalization(axis=chanDim))\n",
    "        model.add(Conv2D(64, (3, 3), padding=\"same\"))\n",
    "        model.add(Activation(\"relu\"))\n",
    "        model.add(BatchNormalization(axis=chanDim))\n",
    "        model.add(MaxPooling2D(pool_size=(2, 2)))\n",
    "        model.add(Dropout(0.25))\n",
    "        \n",
    "        # (CONV => RELU) * 2 => POOL\n",
    "        model.add(Conv2D(128, (3, 3), padding=\"same\"))\n",
    "        model.add(Activation(\"relu\"))\n",
    "        model.add(BatchNormalization(axis=chanDim))\n",
    "        model.add(Conv2D(128, (3, 3), padding=\"same\"))\n",
    "        model.add(Activation(\"relu\"))\n",
    "        model.add(BatchNormalization(axis=chanDim))\n",
    "        model.add(MaxPooling2D(pool_size=(2, 2)))\n",
    "        model.add(Dropout(0.25))\n",
    "        \n",
    "        # first (and only) set of FC => RELU layers\n",
    "        model.add(Flatten())\n",
    "        model.add(Dense(1024))\n",
    "        model.add(Activation(\"relu\"))\n",
    "        model.add(BatchNormalization())\n",
    "        model.add(Dropout(0.5))\n",
    "\n",
    "        # softmax classifier\n",
    "        model.add(Dense(classes))\n",
    "        model.add(Activation(\"softmax\"))\n",
    "\n",
    "        # return the constructed network architecture\n",
    "        return model"
   ]
  },
  {
   "cell_type": "markdown",
   "metadata": {},
   "source": [
    "### Create Image Generators linked to the Image Training, Validation, and Testing subfolders"
   ]
  },
  {
   "cell_type": "code",
   "execution_count": 104,
   "metadata": {},
   "outputs": [
    {
     "name": "stdout",
     "output_type": "stream",
     "text": [
      "Removing the existing temporary augmented images directory './data/temp_aug_images/'\n",
      "Creating a new tempoary augmented images directory './data/temp_aug_images/'\n"
     ]
    }
   ],
   "source": [
    "# Before fitting the model (which will generate new augmented images),\n",
    "# delete and the temporary directory dir_temp_aug_images and all of its contents\n",
    "if os.path.exists(dir_temp_aug_images):\n",
    "    # Remove the target directory and all of it's files and subdirectories\n",
    "    print(f\"Removing the existing temporary augmented images directory '{dir_temp_aug_images}'\")\n",
    "    shutil.rmtree(dir_temp_aug_images)\n",
    "    pass\n",
    "\n",
    "else:\n",
    "    print(f\"A temporary augmented images directory '{dir_temp_aug_images}' is not present, so nothing to delete\")\n",
    "\n",
    "# Create the the temporary directory dir_temp_aug_images\n",
    "if not os.path.exists(dir_temp_aug_images):\n",
    "    print(f\"Creating a new tempoary augmented images directory '{dir_temp_aug_images}'\")\n",
    "    os.mkdir(dir_temp_aug_images)"
   ]
  },
  {
   "cell_type": "code",
   "execution_count": 105,
   "metadata": {},
   "outputs": [],
   "source": [
    "# Covert the images from -\n",
    "# Source Images: Width 3216 x Height 2136 x Depth 3 (RGB)\n",
    "# Analysis Images: Width 96 x Height 96 x Depth 3 (RGB)     -- Just to get this to run initially\n",
    "image_dims = (96, 96, 3)         # Width, Height, Depth (RGB = 3, Grayscale = 1)\n",
    "n_classes = all_train_labels_df['diagnosis'].nunique()  # Number of classes"
   ]
  },
  {
   "cell_type": "code",
   "execution_count": 106,
   "metadata": {},
   "outputs": [
    {
     "name": "stdout",
     "output_type": "stream",
     "text": [
      "Found 2197 validated image filenames belonging to 5 classes.\n"
     ]
    }
   ],
   "source": [
    "# Create a Image Data Generator for the training data\n",
    "train_datagen = ImageDataGenerator(\n",
    "        rotation_range=20,             # Range (degrees) of rotation to apply\n",
    "        zoom_range=0.15,               # Range of zoom to apply: Up to +/- (1-zoom_range)\n",
    "        width_shift_range=0.2,         # Shift the image by a fraction of total width \n",
    "        height_shift_range=0.2,        # Shift the image by a fraction of total height\n",
    "        shear_range=0.15,              # Range (degrees) of shear angle (FYI: cotangent shear angle = shear factor)\n",
    "        horizontal_flip=True,          # Perform random horizontal flips of the images\n",
    "        vertical_flip=True,            # Perform random vertical flips of the images\n",
    "        rescale=1.0/255.0,                 # Rescale the RGB color values from 0-255 to 0.0-1.0\n",
    "        fill_mode=\"nearest\"            # Interpolation method\n",
    "    )\n",
    "\n",
    "# Define generator batch size and step size\n",
    "train_n_images = len(X_train)\n",
    "train_n_batch_size = 32\n",
    "train_n_step_size = train_n_images // train_n_batch_size\n",
    "\n",
    "# Create dataframes with the training data\n",
    "train_df = pd.DataFrame( {'id_code': X_train, 'diagnosis': y_train }).reset_index(drop=True)\n",
    "\n",
    "# Associated the generator with the training images\n",
    "train_generator = train_datagen.flow_from_dataframe(\n",
    "    dataframe=train_df,                         # Dataframe with filenames of images and column for labels\n",
    "    directory=dir_train_src,                    # Directory containing images used for training, validation, and testing\n",
    "    x_col='id_code',                            # Column containing filenames of images in directory dir_train_src\n",
    "    y_col='diagnosis',                          # Column containing the labels for the images\n",
    "    target_size=(image_dims[1], image_dims[0]), # The (height, width) to which each image will be resized\n",
    "    color_mode='rgb',                           # Images will be color ('rgb') (3 color channels) vs. 'grayscale'\n",
    "#     classes=n_classes,                          # The number of classes\n",
    "    class_mode='categorical',                   # Performs one-hot encoding of the string label in y_col\n",
    "    batch_size=train_n_batch_size,              # Number of images to be used per batch\n",
    "    shuffle=True,                               # Shuffle the samples randomly\n",
    "    seed=1,                                     # Random number seed to use for shuffle\n",
    "    save_to_dir=dir_temp_aug_images if flag_save_aug else None, # Directory to save aug images if flag is True\n",
    "    save_prefix='train_aug_',                   # Prefix to apply to any saved images\n",
    "    save_format='png',                          # File format to appy to any saved images\n",
    "    interpolation='bicubic'                     # Interpolation method used to resize samples\n",
    "    )\n"
   ]
  },
  {
   "cell_type": "code",
   "execution_count": 107,
   "metadata": {},
   "outputs": [
    {
     "name": "stdout",
     "output_type": "stream",
     "text": [
      "Found 732 validated image filenames belonging to 5 classes.\n"
     ]
    }
   ],
   "source": [
    "# Create a Image Data Generator for the validation data\n",
    "valid_datagen = ImageDataGenerator(\n",
    "        rotation_range=20,             # Range (degrees) of rotation to apply\n",
    "        zoom_range=0.15,               # Range of zoom to apply: Up to +/- (1-zoom_range)\n",
    "        width_shift_range=0.2,         # Shift the image by a fraction of total width \n",
    "        height_shift_range=0.2,        # Shift the image by a fraction of total height\n",
    "        shear_range=0.15,              # Range (degrees) of shear angle (FYI: cotangent shear angle = shear factor)\n",
    "        horizontal_flip=True,          # Perform random horizontal flips of the images\n",
    "        vertical_flip=True,            # Perform random vertical flips of the images\n",
    "        rescale=1.0/255.0,                 # Rescale the RGB color values from 0-255 to 0.0-1.0\n",
    "        fill_mode=\"nearest\"            # Interpolation method\n",
    "    )\n",
    "\n",
    "# Define generator batch size and step size\n",
    "valid_n_images = len(X_valid)\n",
    "valid_n_batch_size = train_n_batch_size\n",
    "valid_n_step_size = valid_n_images // valid_n_batch_size\n",
    "\n",
    "# Create dataframes with the validation data\n",
    "valid_df = pd.DataFrame( {'id_code': X_valid, 'diagnosis': y_valid }).reset_index(drop=True)\n",
    "\n",
    "# Associated the generator with the validation images\n",
    "valid_generator = valid_datagen.flow_from_dataframe(\n",
    "    dataframe=valid_df,                         # Dataframe with filenames of images and column for labels\n",
    "    directory=dir_train_src,                    # Directory containing images used for training, validation, and testing\n",
    "    x_col='id_code',                            # Column containing filenames of images in directory dir_train_src\n",
    "    y_col='diagnosis',                          # Column containing the labels for the images\n",
    "    target_size=(image_dims[1], image_dims[0]), # The (height, width) to which each image will be resized\n",
    "    color_mode='rgb',                           # Images will be color ('rgb') (3 color channels) vs. 'grayscale'\n",
    "#     classes=n_classes,                          # The number of classes\n",
    "#     class_mode='other',                         # Labels are specified by y_col ('other')\n",
    "    class_mode='categorical',                   # Performs one-hot encoding of the string label in y_col\n",
    "    batch_size=valid_n_batch_size,              # Number of images to be used per batch\n",
    "    shuffle=True,                               # Shuffle the samples randomly\n",
    "    seed=1,                                     # Random number seed to use for shuffle\n",
    "    save_to_dir=dir_temp_aug_images if flag_save_aug else None, # Directory to save aug images if flag is True\n",
    "    save_prefix='valid_aug_',                   # Prefix to apply to any saved images\n",
    "    save_format='png',                          # File format to appy to any saved images\n",
    "    interpolation='bicubic'                     # Interpolation method used to resize samples\n",
    "    )\n"
   ]
  },
  {
   "cell_type": "code",
   "execution_count": 108,
   "metadata": {},
   "outputs": [
    {
     "name": "stdout",
     "output_type": "stream",
     "text": [
      "Found 733 validated image filenames belonging to 5 classes.\n"
     ]
    }
   ],
   "source": [
    "# # Create a Image Data Generator for the testing data\n",
    "# test_datagen = ImageDataGenerator(\n",
    "#         rotation_range=20,             # Range (degrees) of rotation to apply\n",
    "#         zoom_range=0.15,               # Range of zoom to apply: Up to +/- (1-zoom_range)\n",
    "#         width_shift_range=0.2,         # Shift the image by a fraction of total width \n",
    "#         height_shift_range=0.2,        # Shift the image by a fraction of total height\n",
    "#         shear_range=0.15,              # Range (degrees) of shear angle (FYI: cotangent shear angle = shear factor)\n",
    "#         horizontal_flip=True,          # Perform random horizontal flips of the images\n",
    "#         vertical_flip=True,            # Perform random vertical flips of the images\n",
    "#         rescale=1.0/255.0,             # Rescale the RGB color values from 0-255 to 0.0-1.0\n",
    "#         fill_mode=\"nearest\"            # Interpolation method\n",
    "#     )\n",
    "\n",
    "# Create the Image Data Generator for the testing data but with no augmentation\n",
    "test_datagen = ImageDataGenerator()\n",
    "\n",
    "# Define generator batch size and step size\n",
    "test_n_images = len(X_test)\n",
    "test_n_batch_size = 1\n",
    "test_n_step_size = test_n_images // test_n_batch_size\n",
    "\n",
    "# Create dataframes with the testing data\n",
    "# test_df = pd.DataFrame( {'id_code': X_test }).reset_index(drop=True)\n",
    "test_df = pd.DataFrame( {'id_code': X_test, 'diagnosis': y_test }).reset_index(drop=True)\n",
    "\n",
    "\n",
    "# Associated the generator with the testing images\n",
    "# NOTE: These are testing images to potentially be used for hyperparameter tuning.\n",
    "#       The 'official' testing images have no label data\n",
    "test_generator = test_datagen.flow_from_dataframe(\n",
    "    dataframe=test_df,                          # Dataframe with filenames of images and column for labels\n",
    "    directory=dir_train_src,                    # Directory containing images used for training, validation, and testing\n",
    "    x_col='id_code',                            # Column containing filenames of images in directory dir_train_src\n",
    "    y_col='diagnosis',                          # Column containing the labels for the images\n",
    "    target_size=(image_dims[1], image_dims[0]), # The (height, width) to which each image will be resized\n",
    "    color_mode='rgb',                           # Images will be color ('rgb') (3 color channels) vs. 'grayscale'\n",
    "    class_mode='categorical',                   # Performs one-hot encoding of the string label in y_col\n",
    "    batch_size=test_n_batch_size,               # Number of images to be used per batch\n",
    "    shuffle=False,                              # Shuffle the samples randomly\n",
    "    seed=1,                                     # Random number seed to use for shuffle\n",
    "    save_to_dir=dir_temp_aug_images if flag_save_aug else None, # Directory to save aug images if flag is True\n",
    "    save_prefix='test_aug_',                    # Prefix to apply to any saved images\n",
    "    save_format='png',                          # File format to appy to any saved images\n",
    "    interpolation='bicubic'                     # Interpolation method used to resize samples\n",
    "    )\n"
   ]
  },
  {
   "cell_type": "code",
   "execution_count": 110,
   "metadata": {},
   "outputs": [],
   "source": [
    "# Set parameters needed to fit the CNN model\n",
    "# initialize the number of epochs to train for, initial learning rate,\n",
    "# batch size, and image dimensions\n",
    "# n_epochs = 10\n",
    "n_epochs = 1\n",
    "init_learning_rate = 1e-3"
   ]
  },
  {
   "cell_type": "code",
   "execution_count": 111,
   "metadata": {},
   "outputs": [],
   "source": [
    "# Initialize the model\n",
    "model = SmallerVGGNet.build(\n",
    "    width=image_dims[0],\n",
    "    height=image_dims[1],\n",
    "    depth=image_dims[2],\n",
    "    classes=n_classes)\n",
    "\n",
    "opt = Adam( lr=init_learning_rate, decay=init_learning_rate / n_epochs )\n",
    "\n",
    "model.compile(loss=\"categorical_crossentropy\", optimizer=opt, metrics=[\"accuracy\"])"
   ]
  },
  {
   "cell_type": "code",
   "execution_count": 112,
   "metadata": {},
   "outputs": [
    {
     "name": "stdout",
     "output_type": "stream",
     "text": [
      "_________________________________________________________________\n",
      "Layer (type)                 Output Shape              Param #   \n",
      "=================================================================\n",
      "conv2d_6 (Conv2D)            (None, 96, 96, 32)        896       \n",
      "_________________________________________________________________\n",
      "activation_8 (Activation)    (None, 96, 96, 32)        0         \n",
      "_________________________________________________________________\n",
      "batch_normalization_7 (Batch (None, 96, 96, 32)        128       \n",
      "_________________________________________________________________\n",
      "max_pooling2d_4 (MaxPooling2 (None, 32, 32, 32)        0         \n",
      "_________________________________________________________________\n",
      "dropout_5 (Dropout)          (None, 32, 32, 32)        0         \n",
      "_________________________________________________________________\n",
      "conv2d_7 (Conv2D)            (None, 32, 32, 64)        18496     \n",
      "_________________________________________________________________\n",
      "activation_9 (Activation)    (None, 32, 32, 64)        0         \n",
      "_________________________________________________________________\n",
      "batch_normalization_8 (Batch (None, 32, 32, 64)        256       \n",
      "_________________________________________________________________\n",
      "conv2d_8 (Conv2D)            (None, 32, 32, 64)        36928     \n",
      "_________________________________________________________________\n",
      "activation_10 (Activation)   (None, 32, 32, 64)        0         \n",
      "_________________________________________________________________\n",
      "batch_normalization_9 (Batch (None, 32, 32, 64)        256       \n",
      "_________________________________________________________________\n",
      "max_pooling2d_5 (MaxPooling2 (None, 16, 16, 64)        0         \n",
      "_________________________________________________________________\n",
      "dropout_6 (Dropout)          (None, 16, 16, 64)        0         \n",
      "_________________________________________________________________\n",
      "conv2d_9 (Conv2D)            (None, 16, 16, 128)       73856     \n",
      "_________________________________________________________________\n",
      "activation_11 (Activation)   (None, 16, 16, 128)       0         \n",
      "_________________________________________________________________\n",
      "batch_normalization_10 (Batc (None, 16, 16, 128)       512       \n",
      "_________________________________________________________________\n",
      "conv2d_10 (Conv2D)           (None, 16, 16, 128)       147584    \n",
      "_________________________________________________________________\n",
      "activation_12 (Activation)   (None, 16, 16, 128)       0         \n",
      "_________________________________________________________________\n",
      "batch_normalization_11 (Batc (None, 16, 16, 128)       512       \n",
      "_________________________________________________________________\n",
      "max_pooling2d_6 (MaxPooling2 (None, 8, 8, 128)         0         \n",
      "_________________________________________________________________\n",
      "dropout_7 (Dropout)          (None, 8, 8, 128)         0         \n",
      "_________________________________________________________________\n",
      "flatten_2 (Flatten)          (None, 8192)              0         \n",
      "_________________________________________________________________\n",
      "dense_3 (Dense)              (None, 1024)              8389632   \n",
      "_________________________________________________________________\n",
      "activation_13 (Activation)   (None, 1024)              0         \n",
      "_________________________________________________________________\n",
      "batch_normalization_12 (Batc (None, 1024)              4096      \n",
      "_________________________________________________________________\n",
      "dropout_8 (Dropout)          (None, 1024)              0         \n",
      "_________________________________________________________________\n",
      "dense_4 (Dense)              (None, 5)                 5125      \n",
      "_________________________________________________________________\n",
      "activation_14 (Activation)   (None, 5)                 0         \n",
      "=================================================================\n",
      "Total params: 8,678,277\n",
      "Trainable params: 8,675,397\n",
      "Non-trainable params: 2,880\n",
      "_________________________________________________________________\n"
     ]
    }
   ],
   "source": [
    "model.summary()"
   ]
  },
  {
   "cell_type": "code",
   "execution_count": 113,
   "metadata": {},
   "outputs": [
    {
     "name": "stdout",
     "output_type": "stream",
     "text": [
      "Epoch 1/1\n",
      " - 426s - loss: 1.9779 - acc: 0.4697 - val_loss: 1.8613 - val_acc: 0.5639\n"
     ]
    }
   ],
   "source": [
    "# Fit/Train the model (using the train_generator)\n",
    "hist = model.fit_generator(\n",
    "    generator=train_generator,\n",
    "    steps_per_epoch=train_n_step_size,\n",
    "    validation_data=valid_generator,\n",
    "    validation_steps=valid_n_step_size,\n",
    "    epochs=n_epochs,\n",
    "    verbose=2\n",
    "    )"
   ]
  },
  {
   "cell_type": "code",
   "execution_count": 114,
   "metadata": {},
   "outputs": [
    {
     "data": {
      "text/html": [
       "<div>\n",
       "<style scoped>\n",
       "    .dataframe tbody tr th:only-of-type {\n",
       "        vertical-align: middle;\n",
       "    }\n",
       "\n",
       "    .dataframe tbody tr th {\n",
       "        vertical-align: top;\n",
       "    }\n",
       "\n",
       "    .dataframe thead th {\n",
       "        text-align: right;\n",
       "    }\n",
       "</style>\n",
       "<table border=\"1\" class=\"dataframe\">\n",
       "  <thead>\n",
       "    <tr style=\"text-align: right;\">\n",
       "      <th></th>\n",
       "      <th>epoch</th>\n",
       "      <th>val_loss</th>\n",
       "      <th>val_acc</th>\n",
       "      <th>loss</th>\n",
       "      <th>acc</th>\n",
       "    </tr>\n",
       "  </thead>\n",
       "  <tbody>\n",
       "    <tr>\n",
       "      <td>0</td>\n",
       "      <td>0</td>\n",
       "      <td>1.8613</td>\n",
       "      <td>0.5639</td>\n",
       "      <td>1.9779</td>\n",
       "      <td>0.4697</td>\n",
       "    </tr>\n",
       "  </tbody>\n",
       "</table>\n",
       "</div>"
      ],
      "text/plain": [
       "   epoch  val_loss  val_acc    loss     acc\n",
       "0      0    1.8613   0.5639  1.9779  0.4697"
      ]
     },
     "execution_count": 114,
     "metadata": {},
     "output_type": "execute_result"
    }
   ],
   "source": [
    "fit_history_df = pd.DataFrame( hist.history, columns=list(hist.history.keys()) )\n",
    "fit_history_df = fit_history_df.round(4)\n",
    "fit_history_df['epoch'] = fit_history_df.index\n",
    "fit_history_df = fit_history_df[ ['epoch'] + list(hist.history.keys()) ]\n",
    "fit_history_df"
   ]
  },
  {
   "cell_type": "code",
   "execution_count": null,
   "metadata": {},
   "outputs": [],
   "source": []
  },
  {
   "cell_type": "code",
   "execution_count": 115,
   "metadata": {},
   "outputs": [
    {
     "name": "stdout",
     "output_type": "stream",
     "text": [
      "Loss: 1.8916\n",
      "Acc: 0.5554\n"
     ]
    }
   ],
   "source": [
    "# Evaluate the model (using the valid_generator)\n",
    "valid_eval_info = model.evaluate_generator(\n",
    "    generator=valid_generator,\n",
    "    steps=valid_n_step_size\n",
    "    )\n",
    "\n",
    "# Print the evaluation results (Accuracy and Loss)\n",
    "for m,v in zip(model.metrics_names, valid_eval_info):\n",
    "    print(f\"{m.title()}: {v:0.4f}\")"
   ]
  },
  {
   "cell_type": "code",
   "execution_count": 116,
   "metadata": {},
   "outputs": [
    {
     "name": "stdout",
     "output_type": "stream",
     "text": [
      "Validation Eval - Accuracy: 0.5553977272727273, Loss: 1.8916238031604073\n"
     ]
    }
   ],
   "source": [
    "valid_eval_acc = valid_eval_info [ model.metrics_names.index('acc') ]\n",
    "valid_eval_loss = valid_eval_info [ model.metrics_names.index('loss') ]\n",
    "print(f\"Validation Eval - Accuracy: {valid_eval_acc}, Loss: {valid_eval_loss}\")"
   ]
  },
  {
   "cell_type": "code",
   "execution_count": 117,
   "metadata": {},
   "outputs": [
    {
     "name": "stdout",
     "output_type": "stream",
     "text": [
      "Loss: 8.1346\n",
      "Acc: 0.4952\n"
     ]
    }
   ],
   "source": [
    "# Evaluate the model (using the test_generator)\n",
    "test_generator.reset()\n",
    "test_eval_info = model.evaluate_generator(\n",
    "    generator=test_generator,\n",
    "    steps=test_n_step_size\n",
    "    )\n",
    "\n",
    "# Print the evaluation results (Accuracy and Loss)\n",
    "for m,v in zip(model.metrics_names, test_eval_info):\n",
    "    print(f\"{m.title()}: {v:0.4f}\")"
   ]
  },
  {
   "cell_type": "code",
   "execution_count": 118,
   "metadata": {},
   "outputs": [
    {
     "name": "stdout",
     "output_type": "stream",
     "text": [
      "Testing Eval - Accuracy: 0.495225102319236, Loss: 8.13462653361759\n"
     ]
    }
   ],
   "source": [
    "test_eval_acc = test_eval_info [ model.metrics_names.index('acc') ]\n",
    "test_eval_loss = test_eval_info [ model.metrics_names.index('loss') ]\n",
    "print(f\"Testing Eval - Accuracy: {test_eval_acc}, Loss: {test_eval_loss}\")"
   ]
  },
  {
   "cell_type": "code",
   "execution_count": 119,
   "metadata": {},
   "outputs": [
    {
     "data": {
      "image/png": "[encoded data removed]",
      "text/plain": [
       "<Figure size 432x288 with 1 Axes>"
      ]
     },
     "metadata": {
      "needs_background": "light"
     },
     "output_type": "display_data"
    }
   ],
   "source": [
    "# Table: Fit History\n",
    "# fig_table_1 = plt.figure(figsize=(15,12))\n",
    "# fig_table_1 = plt.figure(figsize=(15,10))\n",
    "fig_table_1 = plt.figure()\n",
    "\n",
    "# Create axes for this table, but with no visible frame\n",
    "ax_table = fig_table_1.add_subplot(111, frame_on=False)\n",
    "\n",
    "# Hide the x and y axes\n",
    "ax_table.xaxis.set_visible(False)\n",
    "ax_table.yaxis.set_visible(False)\n",
    "\n",
    "# Create the table\n",
    "results_table = plt.table(\n",
    "            cellText=fit_history_df.values,\n",
    "#             colWidths = [0.2]*len(table_df.columns),\n",
    "#             rowLabels=table_df.index,\n",
    "            colLabels=fit_history_df.columns,\n",
    "            cellLoc = 'center',\n",
    "            rowLoc = 'center',\n",
    "            loc='top')\n",
    "\n",
    "# Set the fontsize to something readable\n",
    "results_table.auto_set_font_size(False)\n",
    "results_table.set_fontsize(12)\n",
    "\n",
    "# Set the column widths automatically\n",
    "results_table.auto_set_column_width(True)\n",
    "\n",
    "# Scale the table\n",
    "results_table.scale(4,4)\n",
    "\n",
    "# Show the resulting table\n",
    "plt.show()\n",
    "        \n",
    "# Save the image - use it for Summary of Analysis at the top of the notebook\n",
    "fig_table_1.savefig('docs/Table-DPA_Fit_History.png', bbox_inches='tight') "
   ]
  },
  {
   "cell_type": "code",
   "execution_count": 120,
   "metadata": {},
   "outputs": [
    {
     "data": {
      "image/png": "[encoded data removed]",
      "text/plain": [
       "<Figure size 720x720 with 2 Axes>"
      ]
     },
     "metadata": {
      "needs_background": "light"
     },
     "output_type": "display_data"
    }
   ],
   "source": [
    "# Plot Epoch history\n",
    "fig1 = plt.figure(figsize=(10,10))\n",
    "\n",
    "# Create a single plot of all results\n",
    "ax1 = fig1.add_subplot( 2,1,1 )\n",
    "ax2 = fig1.add_subplot( 2,1,2 )\n",
    "\n",
    "# X-axis\n",
    "x_vals = range(len(hist.history['acc']))\n",
    "\n",
    "# Plots\n",
    "ax1.set_ylim( ymin=0.9*min(hist.history['acc'] + hist.history['val_acc']), ymax=1.1)\n",
    "\n",
    "ax1.plot( x_vals, hist.history['acc'], label='Accuracy (Training)', c='k', marker='o', linestyle='-')\n",
    "ax1.plot( x_vals, hist.history['val_acc'], label='Accuracy (Validation)', c='0.4', marker='s', linestyle='--')\n",
    "\n",
    "ax2.plot( x_vals, hist.history['loss'], label='Loss (Training)', c='k', marker='o', linestyle='-')\n",
    "ax2.plot( x_vals, hist.history['val_loss'], label='Loss (Validation)', c='0.4', marker='s', linestyle='--')\n",
    "\n",
    "# Add text note on the max and min accuracy and loss points\n",
    "acc_min_idx = np.argmin(hist.history['acc'])\n",
    "ax1.text( x=acc_min_idx, y=hist.history['acc'][acc_min_idx]*1.02, c='b',\n",
    "          s=f\"Min: {hist.history['acc'][acc_min_idx]:.4f}\\nEpoch: {acc_min_idx}\" )\n",
    "\n",
    "acc_max_idx = np.argmax(hist.history['acc'])\n",
    "ax1.text( x=acc_max_idx, y=hist.history['acc'][acc_max_idx]*1.02, c='b',\n",
    "          s=f\"Max: {hist.history['acc'][acc_max_idx]:.4f}\\nEpoch: {acc_max_idx}\" )\n",
    "\n",
    "loss_min_idx = np.argmin(hist.history['loss'])\n",
    "ax2.text( x=loss_min_idx, y=hist.history['loss'][loss_min_idx]*1.02, c='b',\n",
    "          s=f\"Min: {hist.history['loss'][loss_min_idx]:.4f}\\nEpoch: {loss_min_idx}\" )\n",
    "         \n",
    "loss_max_idx = np.argmax(hist.history['loss'])\n",
    "ax2.text( x=loss_max_idx, y=hist.history['loss'][loss_max_idx]*1.02, c='b',\n",
    "          s=f\"Max: {hist.history['loss'][loss_max_idx]:.4f}\\nEpoch: {loss_max_idx}\" )\n",
    "\n",
    "# If populated, plot the loss and accuracy from the test samples\n",
    "try:\n",
    "    loss_val = m_score_list[0]\n",
    "    acc_val = m_score_list[1]\n",
    "\n",
    "    ax1.text( x=min(x_vals), y=acc_val*1.02, c='darkgreen', s=f\"{acc_val:.4f}\")\n",
    "    ax1.hlines(y=acc_val, xmin=min(x_vals), xmax=max(x_vals),\n",
    "              label='Accuracy (Testing)', color='g', linewidth=1, linestyle=':')    \n",
    "    \n",
    "    ax2.text( x=min(x_vals), y=loss_val*0.97, c='darkgreen', s=f\"{loss_val:.4f}\")\n",
    "    ax2.hlines(y=loss_val, xmin=min(x_vals), xmax=max(x_vals),\n",
    "              label='Loss (Testing)', color='g', linewidth=1, linestyle=':')    \n",
    "except:\n",
    "    pass\n",
    "    \n",
    "ax1.legend(loc='lower right')\n",
    "ax1.set_xlabel(\"Epoch\")\n",
    "ax1.set_ylabel(\"Accuracy\")\n",
    "ax1.set_title(\"Model Fitting History - Accuracy\")\n",
    "ax1.grid(True)\n",
    "\n",
    "ax2.legend(loc='upper right')\n",
    "ax2.set_xlabel(\"Epoch\")\n",
    "ax2.set_ylabel(\"Loss\")\n",
    "ax2.set_title(\"Model Fitting History - Loss\")\n",
    "ax2.grid(True)\n",
    "         \n",
    "# Save the image\n",
    "fig1.savefig(\"docs/Figure-DPA_Fit_History.png\")"
   ]
  },
  {
   "cell_type": "code",
   "execution_count": 32,
   "metadata": {
    "scrolled": true
   },
   "outputs": [
    {
     "name": "stdout",
     "output_type": "stream",
     "text": [
      "733/733 [==============================] - 107s 146ms/step\n"
     ]
    }
   ],
   "source": [
    "# Predict the output (using the test_generator)\n",
    "test_generator.reset()\n",
    "pred_onehot = model.predict_generator(test_generator,\n",
    "                             steps=test_n_step_size,\n",
    "                             verbose=1)\n",
    "\n",
    "predicted_class = np.argmax(pred_onehot, axis=1)\n",
    "# predicted_class"
   ]
  },
  {
   "cell_type": "code",
   "execution_count": 121,
   "metadata": {},
   "outputs": [],
   "source": [
    "# Ensure the predicted labels are all strings for comparison with the actual label\n",
    "predicted_y = [ str(x) for x in predicted_class ]\n",
    "# predicted_y"
   ]
  },
  {
   "cell_type": "code",
   "execution_count": 122,
   "metadata": {},
   "outputs": [],
   "source": [
    "# The actual labels are already strings\n",
    "# actual_y = [ str(x) for x in y_test ]\n",
    "actual_y = list(y_test)\n",
    "# actual_y"
   ]
  },
  {
   "cell_type": "code",
   "execution_count": 123,
   "metadata": {},
   "outputs": [
    {
     "data": {
      "text/plain": [
       "array([[293,   0,  71,   0,   0],\n",
       "       [ 14,   0,  62,   0,   0],\n",
       "       [ 30,   0, 156,   0,   0],\n",
       "       [ 24,   0,  16,   0,   0],\n",
       "       [ 15,   0,  52,   0,   0]], dtype=int64)"
      ]
     },
     "execution_count": 123,
     "metadata": {},
     "output_type": "execute_result"
    }
   ],
   "source": [
    "# Generate the confusion matrix for this prediction\n",
    "test_cm = confusion_matrix(actual_y, predicted_y )\n",
    "test_cm"
   ]
  },
  {
   "cell_type": "code",
   "execution_count": 124,
   "metadata": {},
   "outputs": [
    {
     "data": {
      "text/plain": [
       "0.6125511596180082"
      ]
     },
     "execution_count": 124,
     "metadata": {},
     "output_type": "execute_result"
    }
   ],
   "source": [
    "test_accuracy = accuracy_score(actual_y, predicted_y )\n",
    "test_accuracy"
   ]
  },
  {
   "cell_type": "code",
   "execution_count": 125,
   "metadata": {},
   "outputs": [
    {
     "data": {
      "text/plain": [
       "0.6125511596180082"
      ]
     },
     "execution_count": 125,
     "metadata": {},
     "output_type": "execute_result"
    }
   ],
   "source": [
    "test_precision = precision_score(actual_y, predicted_y, average='micro' )\n",
    "test_precision"
   ]
  },
  {
   "cell_type": "code",
   "execution_count": 126,
   "metadata": {},
   "outputs": [
    {
     "data": {
      "text/plain": [
       "0.6125511596180082"
      ]
     },
     "execution_count": 126,
     "metadata": {},
     "output_type": "execute_result"
    }
   ],
   "source": [
    "test_recall = recall_score(actual_y, predicted_y, average='micro' )\n",
    "test_recall"
   ]
  },
  {
   "cell_type": "code",
   "execution_count": 127,
   "metadata": {},
   "outputs": [
    {
     "data": {
      "text/plain": [
       "0.6125511596180082"
      ]
     },
     "execution_count": 127,
     "metadata": {},
     "output_type": "execute_result"
    }
   ],
   "source": [
    "test_f1 = f1_score(actual_y, predicted_y, average='micro' )\n",
    "test_f1"
   ]
  },
  {
   "cell_type": "code",
   "execution_count": null,
   "metadata": {},
   "outputs": [],
   "source": []
  },
  {
   "cell_type": "code",
   "execution_count": 128,
   "metadata": {},
   "outputs": [],
   "source": [
    "# Save the prediction results to a file\n",
    "\n",
    "# Get the list of test image id codes used by the test generator to make the predictions\n",
    "# test_id_code_list = [ (x.split(\"\\\\\"))[1].replace(\".png\",\"\") for x in test_generator.filenames ]\n",
    "test_id_code_list = [ x.replace(\".png\",\"\") for x in test_generator.filenames ]\n",
    "\n",
    "# Associate the test image id codes and the predictions in a dataframe\n",
    "# NOTE: Using `predicted_class` (which has integer labels) vs. `predicted_y` (which has string labels)\n",
    "results_df = pd.DataFrame({\"id_code\": test_id_code_list, \"diagnosis\": predicted_class})\n",
    "results_df.to_csv(\"./data/prediction_results.csv\",index=False)"
   ]
  },
  {
   "cell_type": "code",
   "execution_count": 129,
   "metadata": {},
   "outputs": [],
   "source": [
    "# Save the model to a file\n",
    "model.save(\"./saved_model.h5\")"
   ]
  },
  {
   "cell_type": "code",
   "execution_count": null,
   "metadata": {},
   "outputs": [],
   "source": []
  },
  {
   "cell_type": "markdown",
   "metadata": {},
   "source": [
    "# Predict the Class for Official Test Images"
   ]
  },
  {
   "cell_type": "markdown",
   "metadata": {},
   "source": [
    "## Load the Saved Convolutional Neural Network Model"
   ]
  },
  {
   "cell_type": "code",
   "execution_count": 130,
   "metadata": {},
   "outputs": [],
   "source": [
    "# Load a saved model\n",
    "# model = load_model(\"./saved_model-96x96,64,128.h5\")\n",
    "model = load_model(\"./saved_model.h5\")"
   ]
  },
  {
   "cell_type": "markdown",
   "metadata": {},
   "source": [
    "## Plot the Model Fit History"
   ]
  },
  {
   "cell_type": "code",
   "execution_count": 131,
   "metadata": {},
   "outputs": [
    {
     "data": {
      "image/png": "[encoded data removed]",
      "text/plain": [
       "<Figure size 720x720 with 2 Axes>"
      ]
     },
     "metadata": {
      "needs_background": "light"
     },
     "output_type": "display_data"
    }
   ],
   "source": [
    "# Plot Epoch history\n",
    "fig1 = plt.figure(figsize=(10,10))\n",
    "\n",
    "# Create a single plot of all results\n",
    "ax1 = fig1.add_subplot( 2,1,1 )\n",
    "ax2 = fig1.add_subplot( 2,1,2 )\n",
    "\n",
    "# X-axis\n",
    "x_vals = range(len(hist.history['acc']))\n",
    "\n",
    "# Plots\n",
    "ax1.set_ylim( ymin=0.9*min(hist.history['acc'] + hist.history['val_acc']), ymax=1.1)\n",
    "\n",
    "ax1.plot( x_vals, hist.history['acc'], label='Accuracy (Training)', c='k', marker='o', linestyle='-')\n",
    "ax1.plot( x_vals, hist.history['val_acc'], label='Accuracy (Validation)', c='0.4', marker='s', linestyle='--')\n",
    "\n",
    "ax2.plot( x_vals, hist.history['loss'], label='Loss (Training)', c='k', marker='o', linestyle='-')\n",
    "ax2.plot( x_vals, hist.history['val_loss'], label='Loss (Validation)', c='0.4', marker='s', linestyle='--')\n",
    "\n",
    "# Add text note on the max and min accuracy and loss points\n",
    "acc_min_idx = np.argmin(hist.history['acc'])\n",
    "ax1.text( x=acc_min_idx, y=hist.history['acc'][acc_min_idx]*1.02, c='b',\n",
    "          s=f\"Min: {hist.history['acc'][acc_min_idx]:.4f}\\nEpoch: {acc_min_idx}\" )\n",
    "\n",
    "acc_max_idx = np.argmax(hist.history['acc'])\n",
    "ax1.text( x=acc_max_idx, y=hist.history['acc'][acc_max_idx]*1.02, c='b',\n",
    "          s=f\"Max: {hist.history['acc'][acc_max_idx]:.4f}\\nEpoch: {acc_max_idx}\" )\n",
    "\n",
    "loss_min_idx = np.argmin(hist.history['loss'])\n",
    "ax2.text( x=loss_min_idx, y=hist.history['loss'][loss_min_idx]*1.02, c='b',\n",
    "          s=f\"Min: {hist.history['loss'][loss_min_idx]:.4f}\\nEpoch: {loss_min_idx}\" )\n",
    "         \n",
    "loss_max_idx = np.argmax(hist.history['loss'])\n",
    "ax2.text( x=loss_max_idx, y=hist.history['loss'][loss_max_idx]*1.02, c='b',\n",
    "          s=f\"Max: {hist.history['loss'][loss_max_idx]:.4f}\\nEpoch: {loss_max_idx}\" )\n",
    "\n",
    "# If populated, plot the loss and accuracy from the test samples\n",
    "try:\n",
    "    loss_val = m_score_list[0]\n",
    "    acc_val = m_score_list[1]\n",
    "\n",
    "    ax1.text( x=min(x_vals), y=acc_val*1.02, c='darkgreen', s=f\"{acc_val:.4f}\")\n",
    "    ax1.hlines(y=acc_val, xmin=min(x_vals), xmax=max(x_vals),\n",
    "              label='Accuracy (Testing)', color='g', linewidth=1, linestyle=':')    \n",
    "    \n",
    "    ax2.text( x=min(x_vals), y=loss_val*0.97, c='darkgreen', s=f\"{loss_val:.4f}\")\n",
    "    ax2.hlines(y=loss_val, xmin=min(x_vals), xmax=max(x_vals),\n",
    "              label='Loss (Testing)', color='g', linewidth=1, linestyle=':')    \n",
    "except:\n",
    "    pass\n",
    "    \n",
    "ax1.legend(loc='lower right')\n",
    "ax1.set_xlabel(\"Epoch\")\n",
    "ax1.set_ylabel(\"Accuracy\")\n",
    "ax1.set_title(\"Model Fitting History - Accuracy\")\n",
    "ax1.grid(True)\n",
    "\n",
    "ax2.legend(loc='upper right')\n",
    "ax2.set_xlabel(\"Epoch\")\n",
    "ax2.set_ylabel(\"Loss\")\n",
    "ax2.set_title(\"Model Fitting History - Loss\")\n",
    "ax2.grid(True)\n",
    "         \n",
    "# Save the image\n",
    "fig1.savefig(\"docs/Figure-DPA_Fit_History.png\")"
   ]
  },
  {
   "cell_type": "markdown",
   "metadata": {},
   "source": [
    "## Configure the Image Generator for the Official Test Images"
   ]
  },
  {
   "cell_type": "code",
   "execution_count": 133,
   "metadata": {},
   "outputs": [
    {
     "name": "stdout",
     "output_type": "stream",
     "text": [
      "Using Testing Folders and Files:\n",
      "\tTesting Labels File: './data/test.csv'\n",
      "\tTesting Image Directory: './data/test_images/'\n",
      "\tTemporary Augmented Image Directory: './data/temp_aug_images/'\n",
      "\tFlag to Save Augmented Images: False\n"
     ]
    }
   ],
   "source": [
    "# Summary\n",
    "print(f\"Using Testing Folders and Files:\")\n",
    "print(f\"\\tTesting Labels File: '{test_labels_file}'\")\n",
    "print(f\"\\tTesting Image Directory: '{dir_test_src}'\")\n",
    "print(f\"\\tTemporary Augmented Image Directory: '{dir_temp_aug_images}'\")\n",
    "print(f\"\\tFlag to Save Augmented Images: {flag_save_aug}\")"
   ]
  },
  {
   "cell_type": "code",
   "execution_count": 134,
   "metadata": {},
   "outputs": [
    {
     "data": {
      "text/plain": [
       "1928"
      ]
     },
     "execution_count": 134,
     "metadata": {},
     "output_type": "execute_result"
    }
   ],
   "source": [
    "# Load test counts into a dataframe\n",
    "test_image_list_df = pd.read_csv(test_labels_file)\n",
    "test_image_list_df['id_code_fn'] = test_image_list_df['id_code'] + \".png\"\n",
    "len(test_image_list_df)"
   ]
  },
  {
   "cell_type": "code",
   "execution_count": 135,
   "metadata": {},
   "outputs": [
    {
     "name": "stdout",
     "output_type": "stream",
     "text": [
      "Found 1928 validated image filenames.\n"
     ]
    }
   ],
   "source": [
    "# Create a Image Data Generator for the official testing data\n",
    "official_test_datagen = ImageDataGenerator()\n",
    "\n",
    "# Define generator batch size and step size\n",
    "official_test_n_images = len(test_tally_df)\n",
    "official_test_n_batch_size = 1\n",
    "official_test_n_step_size = official_test_n_images // official_test_n_batch_size\n",
    "\n",
    "# Associate the generator with the training images\n",
    "official_test_generator = official_test_datagen.flow_from_dataframe(\n",
    "    dataframe=test_image_list_df,                    # Dataframe with filenames of images and column for labels\n",
    "    directory=dir_test_src,                     # Directory containing images used for training, validation, and testing\n",
    "    x_col='id_code_fn',                         # Column containing filenames of images in directory dir_train_src\n",
    "    target_size=(image_dims[1], image_dims[0]), # The (height, width) to which each image will be resized\n",
    "    color_mode='rgb',                           # Images will be color ('rgb') (3 color channels) vs. 'grayscale'\n",
    "    batch_size=official_test_n_batch_size,      # Batch size\n",
    "    class_mode=None,                            # Performing prediction only, no labels provided\n",
    "    shuffle=False,                              # Don't shuffle the input samples\n",
    "    seed=1,                                     # Random number seed - only needed if shuffling\n",
    "    save_to_dir=dir_temp_aug_images if flag_save_aug else None, # Directory to save aug images if flag is True\n",
    "    save_prefix='official_test_aug_',           # Prefix to apply to any saved images\n",
    "    save_format='png',                          # File format to appy to any saved images\n",
    "    interpolation='bicubic'                     # Interpolation method used to resize samples\n",
    ")"
   ]
  },
  {
   "cell_type": "markdown",
   "metadata": {},
   "source": [
    "## Predict the Classifications based upon the Images"
   ]
  },
  {
   "cell_type": "code",
   "execution_count": 136,
   "metadata": {},
   "outputs": [
    {
     "name": "stdout",
     "output_type": "stream",
     "text": [
      "1928/1928 [==============================] - 132s 68ms/step\n"
     ]
    },
    {
     "data": {
      "text/plain": [
       "array([2, 0, 0, ..., 0, 0, 0], dtype=int64)"
      ]
     },
     "execution_count": 136,
     "metadata": {},
     "output_type": "execute_result"
    }
   ],
   "source": [
    "# Predict the output (using the test_generator)\n",
    "official_test_generator.reset()\n",
    "official_pred_onehot = model.predict_generator(official_test_generator,\n",
    "                             steps=len(official_test_generator),\n",
    "                             verbose=1)\n",
    "\n",
    "official_predicted_class = np.argmax(official_pred_onehot, axis=1)\n",
    "official_predicted_class"
   ]
  },
  {
   "cell_type": "markdown",
   "metadata": {},
   "source": [
    "## Save the Predictions from the Official Test Data"
   ]
  },
  {
   "cell_type": "code",
   "execution_count": null,
   "metadata": {},
   "outputs": [],
   "source": []
  },
  {
   "cell_type": "code",
   "execution_count": 137,
   "metadata": {
    "scrolled": true
   },
   "outputs": [
    {
     "data": {
      "text/html": [
       "<div>\n",
       "<style scoped>\n",
       "    .dataframe tbody tr th:only-of-type {\n",
       "        vertical-align: middle;\n",
       "    }\n",
       "\n",
       "    .dataframe tbody tr th {\n",
       "        vertical-align: top;\n",
       "    }\n",
       "\n",
       "    .dataframe thead th {\n",
       "        text-align: right;\n",
       "    }\n",
       "</style>\n",
       "<table border=\"1\" class=\"dataframe\">\n",
       "  <thead>\n",
       "    <tr style=\"text-align: right;\">\n",
       "      <th></th>\n",
       "      <th>id_code</th>\n",
       "      <th>diagnosis</th>\n",
       "    </tr>\n",
       "  </thead>\n",
       "  <tbody>\n",
       "    <tr>\n",
       "      <td>0</td>\n",
       "      <td>0005cfc8afb6</td>\n",
       "      <td>2</td>\n",
       "    </tr>\n",
       "    <tr>\n",
       "      <td>1</td>\n",
       "      <td>003f0afdcd15</td>\n",
       "      <td>0</td>\n",
       "    </tr>\n",
       "    <tr>\n",
       "      <td>2</td>\n",
       "      <td>006efc72b638</td>\n",
       "      <td>0</td>\n",
       "    </tr>\n",
       "    <tr>\n",
       "      <td>3</td>\n",
       "      <td>00836aaacf06</td>\n",
       "      <td>2</td>\n",
       "    </tr>\n",
       "    <tr>\n",
       "      <td>4</td>\n",
       "      <td>009245722fa4</td>\n",
       "      <td>0</td>\n",
       "    </tr>\n",
       "    <tr>\n",
       "      <td>...</td>\n",
       "      <td>...</td>\n",
       "      <td>...</td>\n",
       "    </tr>\n",
       "    <tr>\n",
       "      <td>1923</td>\n",
       "      <td>ff2fd94448de</td>\n",
       "      <td>0</td>\n",
       "    </tr>\n",
       "    <tr>\n",
       "      <td>1924</td>\n",
       "      <td>ff4c945d9b17</td>\n",
       "      <td>0</td>\n",
       "    </tr>\n",
       "    <tr>\n",
       "      <td>1925</td>\n",
       "      <td>ff64897ac0d8</td>\n",
       "      <td>0</td>\n",
       "    </tr>\n",
       "    <tr>\n",
       "      <td>1926</td>\n",
       "      <td>ffa73465b705</td>\n",
       "      <td>0</td>\n",
       "    </tr>\n",
       "    <tr>\n",
       "      <td>1927</td>\n",
       "      <td>ffdc2152d455</td>\n",
       "      <td>0</td>\n",
       "    </tr>\n",
       "  </tbody>\n",
       "</table>\n",
       "<p>1928 rows × 2 columns</p>\n",
       "</div>"
      ],
      "text/plain": [
       "           id_code  diagnosis\n",
       "0     0005cfc8afb6          2\n",
       "1     003f0afdcd15          0\n",
       "2     006efc72b638          0\n",
       "3     00836aaacf06          2\n",
       "4     009245722fa4          0\n",
       "...            ...        ...\n",
       "1923  ff2fd94448de          0\n",
       "1924  ff4c945d9b17          0\n",
       "1925  ff64897ac0d8          0\n",
       "1926  ffa73465b705          0\n",
       "1927  ffdc2152d455          0\n",
       "\n",
       "[1928 rows x 2 columns]"
      ]
     },
     "execution_count": 137,
     "metadata": {},
     "output_type": "execute_result"
    }
   ],
   "source": [
    "# Save the prediction results to a file\n",
    "\n",
    "# Get the list of test image id codes used by the test generator to make the predictions\n",
    "official_test_id_code_list = [ x.replace(\".png\",\"\") for x in official_test_generator.filenames ]\n",
    "\n",
    "# Associate the test image id codes and the preoductions in a dataframe\n",
    "official_results_df = pd.DataFrame({\"id_code\": official_test_id_code_list, \"diagnosis\": official_predicted_class})\n",
    "official_results_df.to_csv(\"./submission.csv\",index=False)\n",
    "official_results_df"
   ]
  },
  {
   "cell_type": "code",
   "execution_count": null,
   "metadata": {},
   "outputs": [],
   "source": []
  }
 ],
 "metadata": {
  "anaconda-cloud": {},
  "kernelspec": {
   "display_name": "Python 3",
   "language": "python",
   "name": "python3"
  },
  "language_info": {
   "codemirror_mode": {
    "name": "ipython",
    "version": 3
   },
   "file_extension": ".py",
   "mimetype": "text/x-python",
   "name": "python",
   "nbconvert_exporter": "python",
   "pygments_lexer": "ipython3",
   "version": "3.6.9"
  },
  "nbpresent": {
   "slides": {
    "03210a56-863e-4749-b7ba-ed75bfceceee": {
     "id": "03210a56-863e-4749-b7ba-ed75bfceceee",
     "prev": "86b3b05f-6e9a-49dc-8a83-97f72c348c5f",
     "regions": {
      "2be9481c-cff7-4f32-b835-90f2a2cb989a": {
       "attrs": {
        "height": 0.8,
        "width": 0.8,
        "x": 0.1,
        "y": 0.1
       },
       "content": {
        "cell": "46550b81-7dd8-4efc-b710-0f10002c9f2b",
        "part": "whole"
       },
       "id": "2be9481c-cff7-4f32-b835-90f2a2cb989a"
      },
      "3f484569-30ec-4529-8d3c-ac88b8c6dbfb": {
       "attrs": {
        "height": 0.4,
        "width": 0.8,
        "x": 0.1,
        "y": 0.5
       },
       "content": {
        "cell": "2b83c32a-d7e2-4db6-b45f-afbbf028fe90",
        "part": "whole"
       },
       "id": "3f484569-30ec-4529-8d3c-ac88b8c6dbfb"
      }
     }
    },
    "22531930-3fc8-45ff-a4f1-32e94c1d1455": {
     "id": "22531930-3fc8-45ff-a4f1-32e94c1d1455",
     "prev": "8eb735f6-11af-4f77-a4ed-b637fb18ac08",
     "regions": {
      "1407c818-c9fd-470e-8260-6b6904d888de": {
       "attrs": {
        "height": 0.8,
        "width": 0.8,
        "x": 0.1,
        "y": 0.1
       },
       "content": {
        "cell": "664c64ef-5517-4725-95cb-874bbc7711c7",
        "part": "whole"
       },
       "id": "1407c818-c9fd-470e-8260-6b6904d888de"
      }
     }
    },
    "29c55765-6994-4dbf-b82f-117b4f1e0cee": {
     "id": "29c55765-6994-4dbf-b82f-117b4f1e0cee",
     "prev": "b7c25bc1-4dd7-421b-9951-0c0c403c176d",
     "regions": {
      "44583f15-ec4f-4aec-8e7c-f01652e954fc": {
       "attrs": {
        "height": 0.8,
        "width": 0.8,
        "x": 0.1,
        "y": 0.1
       },
       "content": {
        "cell": "7c23961d-86fe-4d07-bc58-6d61f03c3731",
        "part": "whole"
       },
       "id": "44583f15-ec4f-4aec-8e7c-f01652e954fc"
      }
     }
    },
    "39c5764b-ab2c-4aae-8500-dc39319e4d38": {
     "id": "39c5764b-ab2c-4aae-8500-dc39319e4d38",
     "prev": "22531930-3fc8-45ff-a4f1-32e94c1d1455",
     "regions": {
      "d0237596-8095-44dc-81c6-6d9c6b204684": {
       "attrs": {
        "height": 0.8,
        "width": 0.8,
        "x": 0.1,
        "y": 0.1
       },
       "content": {
        "cell": "348e164e-a000-4def-92c0-db93f9a617a1",
        "part": "whole"
       },
       "id": "d0237596-8095-44dc-81c6-6d9c6b204684"
      }
     }
    },
    "39e950f1-f2c4-422a-8f45-835c5c61e7e0": {
     "id": "39e950f1-f2c4-422a-8f45-835c5c61e7e0",
     "prev": "4b5f1824-db4a-4ef3-9515-a88d3f2276c1",
     "regions": {
      "0a72cc48-c38f-4e8c-94d3-3198eccde68a": {
       "attrs": {
        "height": 0.8,
        "width": 0.8,
        "x": 0.1,
        "y": 0.1
       },
       "content": {
        "cell": "c3820b22-bf55-4dca-ba8b-f08060567b6e",
        "part": "whole"
       },
       "id": "0a72cc48-c38f-4e8c-94d3-3198eccde68a"
      },
      "b49c6eca-318f-41b8-a7a5-a620d18f639c": {
       "attrs": {
        "height": 0.4,
        "width": 0.8,
        "x": 0.1,
        "y": 0.5
       },
       "content": {
        "cell": "aeeeb44d-7825-4050-b7ba-70813bd3396b",
        "part": "whole"
       },
       "id": "b49c6eca-318f-41b8-a7a5-a620d18f639c"
      }
     }
    },
    "4792c0cc-ccd4-48bf-9b0e-a3c1f0f3008d": {
     "id": "4792c0cc-ccd4-48bf-9b0e-a3c1f0f3008d",
     "prev": "39c5764b-ab2c-4aae-8500-dc39319e4d38",
     "regions": {
      "d4adae26-ff2f-4a81-ad91-fd3a9bfd965c": {
       "attrs": {
        "height": 0.4,
        "width": 0.8,
        "x": 0.1,
        "y": 0.5
       },
       "content": {
        "cell": "4d6b8af6-438e-4034-bda1-1f977cf12441",
        "part": "whole"
       },
       "id": "d4adae26-ff2f-4a81-ad91-fd3a9bfd965c"
      },
      "d75a8261-ee89-4f4d-b388-2f429e112f44": {
       "attrs": {
        "height": 0.8,
        "width": 0.8,
        "x": 0.1,
        "y": 0.1
       },
       "content": {
        "cell": "a3b6e99c-2c85-47da-b29b-3b53c3c309b8",
        "part": "whole"
       },
       "id": "d75a8261-ee89-4f4d-b388-2f429e112f44"
      }
     }
    },
    "4b5f1824-db4a-4ef3-9515-a88d3f2276c1": {
     "id": "4b5f1824-db4a-4ef3-9515-a88d3f2276c1",
     "prev": "e92a9020-6631-400a-aa50-46c1fa0a5f0c",
     "regions": {
      "2bd81133-11e3-48df-bf12-2d0a57949bca": {
       "attrs": {
        "height": 0.8,
        "width": 0.8,
        "x": 0.1,
        "y": 0.1
       },
       "content": {
        "cell": "69fab88f-0864-47cc-933b-eaffb638cbf3",
        "part": "whole"
       },
       "id": "2bd81133-11e3-48df-bf12-2d0a57949bca"
      },
      "d3322861-28ab-4f1e-8a1f-3a7f4d3da8c1": {
       "attrs": {
        "height": 0.4,
        "width": 0.8,
        "x": 0.1,
        "y": 0.5
       },
       "content": {
        "cell": "3810c2af-fdbe-4f01-bc9f-2bb1a8ae70c6",
        "part": "whole"
       },
       "id": "d3322861-28ab-4f1e-8a1f-3a7f4d3da8c1"
      }
     }
    },
    "57992fb9-2f74-4e8e-8772-7b9f04606a56": {
     "id": "57992fb9-2f74-4e8e-8772-7b9f04606a56",
     "prev": "595093b4-3f86-406c-abb5-aea78e1241b3",
     "regions": {
      "3b3c8191-9f7e-4ab2-afac-b2b47008484a": {
       "attrs": {
        "height": 0.8,
        "width": 0.8,
        "x": 0.1,
        "y": 0.1
       },
       "content": {
        "cell": "a6d0bdff-9bba-472e-b354-da47b8761dbe",
        "part": "whole"
       },
       "id": "3b3c8191-9f7e-4ab2-afac-b2b47008484a"
      }
     }
    },
    "5907f515-df93-4e86-82c6-b8721b6e6346": {
     "id": "5907f515-df93-4e86-82c6-b8721b6e6346",
     "prev": "39e950f1-f2c4-422a-8f45-835c5c61e7e0",
     "regions": {
      "22f9005a-ed7a-4399-b501-497565ada2da": {
       "attrs": {
        "height": 0.8,
        "width": 0.8,
        "x": 0.1,
        "y": 0.1
       },
       "content": {
        "cell": "2e255efc-6ae1-4554-b32f-9400b47007c9",
        "part": "whole"
       },
       "id": "22f9005a-ed7a-4399-b501-497565ada2da"
      },
      "82d64cef-48f7-413c-ad01-e7fa2921f7c0": {
       "attrs": {
        "height": 0.4,
        "width": 0.8,
        "x": 0.1,
        "y": 0.5
       },
       "content": {
        "cell": "711a40c8-c479-448b-a3bc-5c7ff8369838",
        "part": "whole"
       },
       "id": "82d64cef-48f7-413c-ad01-e7fa2921f7c0"
      },
      "d943d3ea-6cd3-4d4a-8914-7fea0231efda": {
       "attrs": {
        "height": 0.4,
        "width": 0.8,
        "x": 0.1,
        "y": 0.5
       },
       "content": {
        "cell": "9bfbb27b-cae0-4feb-809a-77718bb2e6a3",
        "part": "whole"
       },
       "id": "d943d3ea-6cd3-4d4a-8914-7fea0231efda"
      }
     }
    },
    "595093b4-3f86-406c-abb5-aea78e1241b3": {
     "id": "595093b4-3f86-406c-abb5-aea78e1241b3",
     "prev": "5907f515-df93-4e86-82c6-b8721b6e6346",
     "regions": {
      "3366a1dc-6c33-45f0-a97f-a2744ed0587f": {
       "attrs": {
        "height": 0.8,
        "width": 0.8,
        "x": 0.1,
        "y": 0.1
       },
       "content": {
        "cell": "e54b79a1-316d-4fd1-ad5f-6cd580b51f99",
        "part": "whole"
       },
       "id": "3366a1dc-6c33-45f0-a97f-a2744ed0587f"
      },
      "40b6dba8-5994-4fd0-9ce5-9d36f3bb9f93": {
       "attrs": {
        "height": 0.4,
        "width": 0.8,
        "x": 0.1,
        "y": 0.5
       },
       "content": {
        "cell": "3d860568-b048-40f2-a64d-f585211d6c1c",
        "part": "whole"
       },
       "id": "40b6dba8-5994-4fd0-9ce5-9d36f3bb9f93"
      }
     }
    },
    "76838eab-c2c3-4ff3-b09f-854a7c74c6d4": {
     "id": "76838eab-c2c3-4ff3-b09f-854a7c74c6d4",
     "prev": null,
     "regions": {
      "b0032c00-1d89-4c94-a7a0-488f243c381e": {
       "attrs": {
        "height": 0.8,
        "width": 0.8,
        "x": 0.1,
        "y": 0.1
       },
       "content": {
        "cell": "0dc0cdcb-d8df-4a29-a0d2-a3cf6cc889ce",
        "part": "whole"
       },
       "id": "b0032c00-1d89-4c94-a7a0-488f243c381e"
      }
     }
    },
    "7a25817a-e5bc-4021-9c6b-61bc74dbdb92": {
     "id": "7a25817a-e5bc-4021-9c6b-61bc74dbdb92",
     "prev": "b04719fc-934a-404b-a642-dc732a3d1589",
     "regions": {
      "38d56409-500a-45cf-8e79-722d68d8fc38": {
       "attrs": {
        "height": 0.8,
        "width": 0.8,
        "x": 0.1,
        "y": 0.1
       },
       "content": {
        "cell": "335f050d-99af-43b3-a5ec-69fe896e48e2",
        "part": "whole"
       },
       "id": "38d56409-500a-45cf-8e79-722d68d8fc38"
      },
      "c838cb6d-409c-4c17-a1eb-3d7dc6aab32b": {
       "attrs": {
        "height": 0.4,
        "width": 0.8,
        "x": 0.1,
        "y": 0.5
       },
       "content": {
        "cell": "19ca6a7e-4b5d-4b0f-88c5-e68634abb65d",
        "part": "whole"
       },
       "id": "c838cb6d-409c-4c17-a1eb-3d7dc6aab32b"
      }
     }
    },
    "86b3b05f-6e9a-49dc-8a83-97f72c348c5f": {
     "id": "86b3b05f-6e9a-49dc-8a83-97f72c348c5f",
     "prev": "57992fb9-2f74-4e8e-8772-7b9f04606a56",
     "regions": {
      "49a41ef6-224d-46c1-bb81-254b8a4cee88": {
       "attrs": {
        "height": 0.8,
        "width": 0.8,
        "x": 0.1,
        "y": 0.1
       },
       "content": {
        "cell": "d7df6fa0-ce96-4073-b95d-ce78b3f4fdf1",
        "part": "whole"
       },
       "id": "49a41ef6-224d-46c1-bb81-254b8a4cee88"
      },
      "7ce316ab-4799-4e15-b095-374da21bc1aa": {
       "attrs": {
        "height": 0.4,
        "width": 0.8,
        "x": 0.1,
        "y": 0.5
       },
       "content": {
        "cell": "4a5226b5-d431-4cbe-86a6-291952a45a37",
        "part": "whole"
       },
       "id": "7ce316ab-4799-4e15-b095-374da21bc1aa"
      },
      "a7d701c6-61e3-48e3-8e0d-a4b318aef7d8": {
       "attrs": {
        "height": 0.4,
        "width": 0.8,
        "x": 0.1,
        "y": 0.5
       },
       "content": {
        "cell": "5e425283-82de-4c48-b2ae-31a1d6983849",
        "part": "whole"
       },
       "id": "a7d701c6-61e3-48e3-8e0d-a4b318aef7d8"
      },
      "e180cf23-71a7-46a8-8598-86a079bd7d78": {
       "attrs": {
        "height": 0.4,
        "width": 0.8,
        "x": 0.1,
        "y": 0.5
       },
       "content": {
        "cell": "28aaab45-1e14-4db5-9d2c-63b239cafe13",
        "part": "whole"
       },
       "id": "e180cf23-71a7-46a8-8598-86a079bd7d78"
      }
     }
    },
    "8eb735f6-11af-4f77-a4ed-b637fb18ac08": {
     "id": "8eb735f6-11af-4f77-a4ed-b637fb18ac08",
     "prev": "7a25817a-e5bc-4021-9c6b-61bc74dbdb92",
     "regions": {
      "ca38ef02-01f9-42cb-9e35-d67f8d665597": {
       "attrs": {
        "height": 0.4,
        "width": 0.8,
        "x": 0.1,
        "y": 0.5
       },
       "content": {
        "cell": "69b638ed-ed32-4824-bb81-df958c215a33",
        "part": "whole"
       },
       "id": "ca38ef02-01f9-42cb-9e35-d67f8d665597"
      },
      "fc52547b-a8f8-40e2-9397-5b18ca2b71b3": {
       "attrs": {
        "height": 0.8,
        "width": 0.8,
        "x": 0.1,
        "y": 0.1
       },
       "content": {
        "cell": "7317e4f2-150e-4336-ac48-d82641441aa8",
        "part": "whole"
       },
       "id": "fc52547b-a8f8-40e2-9397-5b18ca2b71b3"
      }
     }
    },
    "af2f5933-b31d-4d30-b08a-e4c09432b9bb": {
     "id": "af2f5933-b31d-4d30-b08a-e4c09432b9bb",
     "prev": "29c55765-6994-4dbf-b82f-117b4f1e0cee",
     "regions": {
      "479b436f-50bb-4c3a-9a4e-748e85eacde6": {
       "attrs": {
        "height": 0.8,
        "width": 0.8,
        "x": 0.1,
        "y": 0.1
       },
       "content": {
        "cell": "6d53481c-69ff-41a0-937e-4e8a39e2b2b5",
        "part": "whole"
       },
       "id": "479b436f-50bb-4c3a-9a4e-748e85eacde6"
      },
      "a02a5bdc-cab5-4ddc-aa9d-8ee5e0db6bd4": {
       "attrs": {
        "height": 0.4,
        "width": 0.8,
        "x": 0.1,
        "y": 0.5
       },
       "content": {
        "cell": "b0f8400f-71e1-4892-9012-88e54c053a36",
        "part": "whole"
       },
       "id": "a02a5bdc-cab5-4ddc-aa9d-8ee5e0db6bd4"
      }
     }
    },
    "b04719fc-934a-404b-a642-dc732a3d1589": {
     "id": "b04719fc-934a-404b-a642-dc732a3d1589",
     "prev": "af2f5933-b31d-4d30-b08a-e4c09432b9bb",
     "regions": {
      "701cdc94-3399-40dc-8e45-10d6edbf0959": {
       "attrs": {
        "height": 0.4,
        "width": 0.8,
        "x": 0.1,
        "y": 0.5
       },
       "content": {
        "cell": "fa78fa75-54cf-40d3-b52c-4b51c5070d9a",
        "part": "whole"
       },
       "id": "701cdc94-3399-40dc-8e45-10d6edbf0959"
      },
      "81f01069-a0c6-4ab1-98d1-d465e96aac6d": {
       "attrs": {
        "height": 0.8,
        "width": 0.8,
        "x": 0.1,
        "y": 0.1
       },
       "content": {
        "cell": "fb58a52c-71e9-402d-af86-eab194cf8050",
        "part": "whole"
       },
       "id": "81f01069-a0c6-4ab1-98d1-d465e96aac6d"
      },
      "ae73fc9b-89cf-4405-ab54-34e6c8b73a19": {
       "attrs": {
        "height": 0.4,
        "width": 0.8,
        "x": 0.1,
        "y": 0.5
       },
       "content": {
        "cell": "241f356d-567a-421d-b27c-7ce2d146d1bb",
        "part": "whole"
       },
       "id": "ae73fc9b-89cf-4405-ab54-34e6c8b73a19"
      }
     }
    },
    "b7c25bc1-4dd7-421b-9951-0c0c403c176d": {
     "id": "b7c25bc1-4dd7-421b-9951-0c0c403c176d",
     "prev": "76838eab-c2c3-4ff3-b09f-854a7c74c6d4",
     "regions": {
      "47f524f5-68f8-49df-9a61-61eab6cab03c": {
       "attrs": {
        "height": 0.4,
        "width": 0.8,
        "x": 0.1,
        "y": 0.5
       },
       "content": {
        "cell": "966e050d-5739-4ef9-a2ae-9a4957e14f3e",
        "part": "whole"
       },
       "id": "47f524f5-68f8-49df-9a61-61eab6cab03c"
      },
      "4b3ba01a-29e7-4e67-ac78-988162f7dde9": {
       "attrs": {
        "height": 0.8,
        "width": 0.8,
        "x": 0.1,
        "y": 0.1
       },
       "content": {
        "cell": "91401f60-44eb-42b2-86ea-c82b5e955ace",
        "part": "whole"
       },
       "id": "4b3ba01a-29e7-4e67-ac78-988162f7dde9"
      },
      "a47d9662-0a49-4b84-aae0-908067552ebd": {
       "attrs": {
        "height": 0.4,
        "width": 0.8,
        "x": 0.1,
        "y": 0.5
       },
       "content": {
        "cell": "6de4dae8-c949-4927-89a3-9741aba83e8d",
        "part": "whole"
       },
       "id": "a47d9662-0a49-4b84-aae0-908067552ebd"
      },
      "e64668fe-aafe-4e24-a46d-6a6266eeee77": {
       "attrs": {
        "height": 0.4,
        "width": 0.8,
        "x": 0.1,
        "y": 0.5
       },
       "content": {
        "cell": "7068c96d-f8f0-42bb-bdfd-dcbf9335323c",
        "part": "whole"
       },
       "id": "e64668fe-aafe-4e24-a46d-6a6266eeee77"
      }
     }
    },
    "d3ecec0a-67fe-4558-a268-50695fd7fe1c": {
     "id": "d3ecec0a-67fe-4558-a268-50695fd7fe1c",
     "prev": "fcda7de6-cb93-4b63-9dea-d5f23fecd968",
     "regions": {
      "b268bb57-2543-4b91-b9c0-84aa3cf09d5c": {
       "attrs": {
        "height": 0.8,
        "width": 0.8,
        "x": 0.1,
        "y": 0.1
       },
       "content": {
        "cell": "67aab8fa-45cd-4ede-8285-e3dad22d8b16",
        "part": "whole"
       },
       "id": "b268bb57-2543-4b91-b9c0-84aa3cf09d5c"
      }
     }
    },
    "e92a9020-6631-400a-aa50-46c1fa0a5f0c": {
     "id": "e92a9020-6631-400a-aa50-46c1fa0a5f0c",
     "prev": "ee94ae9b-9e13-414c-a017-db1d8913aaa8",
     "regions": {
      "bb15b4ea-132f-4146-ab77-93a4969c2904": {
       "attrs": {
        "height": 0.8,
        "width": 0.8,
        "x": 0.1,
        "y": 0.1
       },
       "content": {
        "cell": "7d5d2002-5cae-4d5f-8e2e-d5eaf5cd17da",
        "part": "whole"
       },
       "id": "bb15b4ea-132f-4146-ab77-93a4969c2904"
      }
     }
    },
    "ee94ae9b-9e13-414c-a017-db1d8913aaa8": {
     "id": "ee94ae9b-9e13-414c-a017-db1d8913aaa8",
     "prev": "f8fce519-927e-4fd0-88d8-23ece4403794",
     "regions": {
      "0b578bb1-2cd1-480b-8d65-dde0861851cb": {
       "attrs": {
        "height": 0.8,
        "width": 0.8,
        "x": 0.1,
        "y": 0.1
       },
       "content": {
        "cell": "f1c699bc-6717-4eb9-8e6d-66d433ba4618",
        "part": "whole"
       },
       "id": "0b578bb1-2cd1-480b-8d65-dde0861851cb"
      }
     }
    },
    "f8fce519-927e-4fd0-88d8-23ece4403794": {
     "id": "f8fce519-927e-4fd0-88d8-23ece4403794",
     "prev": "4792c0cc-ccd4-48bf-9b0e-a3c1f0f3008d",
     "regions": {
      "7510ae01-fe22-48b0-92cb-29b880cc85fc": {
       "attrs": {
        "height": 0.8,
        "width": 0.8,
        "x": 0.1,
        "y": 0.1
       },
       "content": {
        "cell": "e61ba538-5828-4a5a-a2c5-4fcceac35889",
        "part": "whole"
       },
       "id": "7510ae01-fe22-48b0-92cb-29b880cc85fc"
      }
     }
    },
    "fcda7de6-cb93-4b63-9dea-d5f23fecd968": {
     "id": "fcda7de6-cb93-4b63-9dea-d5f23fecd968",
     "prev": "03210a56-863e-4749-b7ba-ed75bfceceee",
     "regions": {
      "43f5b3bd-9e0c-4a98-a18c-1b9f7beaa3b8": {
       "attrs": {
        "height": 0.8,
        "width": 0.8,
        "x": 0.1,
        "y": 0.1
       },
       "content": {
        "cell": "318099ba-93dd-4c2c-a3ee-fc6622c472c8",
        "part": "whole"
       },
       "id": "43f5b3bd-9e0c-4a98-a18c-1b9f7beaa3b8"
      },
      "dbab9920-f08a-457a-949d-2c8289707798": {
       "attrs": {
        "height": 0.4,
        "width": 0.8,
        "x": 0.1,
        "y": 0.5
       },
       "content": {
        "cell": "8bb35ef7-00cc-4ad9-9dd4-6fac480df38e",
        "part": "whole"
       },
       "id": "dbab9920-f08a-457a-949d-2c8289707798"
      }
     }
    }
   },
   "themes": {}
  },
  "varInspector": {
   "cols": {
    "lenName": 16,
    "lenType": 16,
    "lenVar": 40
   },
   "kernels_config": {
    "python": {
     "delete_cmd_postfix": "",
     "delete_cmd_prefix": "del ",
     "library": "var_list.py",
     "varRefreshCmd": "print(var_dic_list())"
    },
    "r": {
     "delete_cmd_postfix": ") ",
     "delete_cmd_prefix": "rm(",
     "library": "var_list.r",
     "varRefreshCmd": "cat(var_dic_list()) "
    }
   },
   "types_to_exclude": [
    "module",
    "function",
    "builtin_function_or_method",
    "instance",
    "_Feature"
   ],
   "window_display": false
  }
 },
 "nbformat": 4,
 "nbformat_minor": 2
}
